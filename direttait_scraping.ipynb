{
 "cells": [
  {
   "cell_type": "code",
   "execution_count": 1,
   "metadata": {},
   "outputs": [],
   "source": [
    "from selenium import webdriver\n",
    "from selenium.webdriver.common.by import By\n",
    "from selenium.webdriver.support.ui import WebDriverWait\n",
    "from selenium.webdriver.support import expected_conditions as EC\n",
    "from selenium.common.exceptions import ElementClickInterceptedException\n",
    "from selenium.webdriver.common.action_chains import ActionChains\n",
    "from selenium.common.exceptions import StaleElementReferenceException, NoSuchElementException\n",
    "import time\n",
    "from utils import writeJson\n",
    "import os"
   ]
  },
  {
   "cell_type": "code",
   "execution_count": 3,
   "metadata": {},
   "outputs": [],
   "source": [
    "def refuseCookies(driver):\n",
    "    try: \n",
    "        cookies = driver.find_element(By.ID, \"onetrust-reject-all-handler\")\n",
    "        cookies.click()       \n",
    "    except:\n",
    "        pass\n",
    "\n",
    "def showMore(driver):\n",
    "    show_more_matches = True\n",
    "    refuseCookies(driver)\n",
    "    while show_more_matches:\n",
    "        try:\n",
    "            button = driver.find_elements(By.CLASS_NAME, \"event__more\" )\n",
    "            if len(button) == 1:\n",
    "                button = button[0]\n",
    "            else:\n",
    "                print(len(button))\n",
    "                button = None\n",
    "            if button == None:\n",
    "                show_more_matches = False\n",
    "            else:\n",
    "                #print(button.get_attribute('href'), button.text)\n",
    "                actions = ActionChains(driver)\n",
    "                actions.move_to_element(button).perform()\n",
    "                time.sleep(1)\n",
    "                #driver.execute_script(\"arguments[0].scrollIntoView(true);\", button)\n",
    "                actions.click(button).perform()\n",
    "        \n",
    "        except StaleElementReferenceException:\n",
    "            show_more_matches = False\n",
    "\n",
    "        except NoSuchElementException:\n",
    "            show_more_matches = False\n",
    "\n",
    "def getComments(url_commento: str): \n",
    "    driver_match = webdriver.Chrome()\n",
    "    driver_match.get(url_commento)\n",
    "    refuseCookies(driver_match)\n",
    "    teams = [x.text for x in driver_match.find_elements(By.CLASS_NAME, 'participant__participantName')]\n",
    "    tags = driver_match.find_elements(By.TAG_NAME, 'a')\n",
    "    day = [x.text for x in tags if 'GIORNATA' in x.text]\n",
    "    if(len(day) > 0):\n",
    "        day = day[0].split(' ')[-1]\n",
    "    else:\n",
    "        day = 'xx'\n",
    "        \n",
    "    if len(teams) == 4:\n",
    "        home, away = teams[0], teams[2]\n",
    "    else:\n",
    "        home, away = teams[0], teams[1]\n",
    "    comments_button = [x for x in driver_match.find_elements(By.CLASS_NAME, '_tab_i2rza_4') if x.text == 'COMMENTO'][0]\n",
    "    comments_button.click()\n",
    "    time.sleep(1)\n",
    "    comments = [x.text for x in driver_match.find_elements(By.CLASS_NAME, '_general_1vhh5_4')]\n",
    "    driver_match.quit()\n",
    "    return day, home, away, comments\n",
    "\n",
    "        "
   ]
  },
  {
   "cell_type": "code",
   "execution_count": 4,
   "metadata": {},
   "outputs": [],
   "source": [
    "def mainExtractionComments(url: str, out_path: str):\n",
    "    driver = webdriver.Chrome()\n",
    "    driver.get(url)\n",
    "    showMore(driver)\n",
    "    matches = driver.find_elements(By.CLASS_NAME, 'eventRowLink')\n",
    "    matches_urls = [x.get_property('href') for x in matches]\n",
    "    driver.quit()\n",
    "    for match in matches_urls:\n",
    "        day, home, away, comment_def =getComments(match)\n",
    "        file_out = os.path.join(out_path, f'{day}_{home}_{away}.json')\n",
    "        writeJson(comment_def, file_out)"
   ]
  },
  {
   "cell_type": "code",
   "execution_count": 5,
   "metadata": {},
   "outputs": [
    {
     "name": "stdout",
     "output_type": "stream",
     "text": [
      "start Serie A 2022-2023\n",
      "end Serie A 2022-2023\n",
      "start Premier League 2022-2023\n",
      "end Premier League 2022-2023\n",
      "start Bundesliga 2022-2023\n",
      "end Bundesliga 2022-2023\n",
      "start Ligue 1 2022-2023\n",
      "end Ligue 1 2022-2023\n",
      "start LaLiga 2022-2023\n",
      "end LaLiga 2022-2023\n",
      "start Liga Portugal 2022-2023\n"
     ]
    },
    {
     "ename": "IndexError",
     "evalue": "list index out of range",
     "output_type": "error",
     "traceback": [
      "\u001b[1;31m---------------------------------------------------------------------------\u001b[0m",
      "\u001b[1;31mIndexError\u001b[0m                                Traceback (most recent call last)",
      "Cell \u001b[1;32mIn[5], line 17\u001b[0m\n\u001b[0;32m     15\u001b[0m \u001b[38;5;28;01mif\u001b[39;00m \u001b[38;5;129;01mnot\u001b[39;00m os\u001b[38;5;241m.\u001b[39mpath\u001b[38;5;241m.\u001b[39mexists(season_league_path):\n\u001b[0;32m     16\u001b[0m     os\u001b[38;5;241m.\u001b[39mmakedirs(season_league_path)\n\u001b[1;32m---> 17\u001b[0m \u001b[43mmainExtractionComments\u001b[49m\u001b[43m(\u001b[49m\u001b[43murl\u001b[49m\u001b[43m,\u001b[49m\u001b[43m \u001b[49m\u001b[43mseason_league_path\u001b[49m\u001b[43m)\u001b[49m\n\u001b[0;32m     18\u001b[0m \u001b[38;5;28mprint\u001b[39m(\u001b[38;5;124mf\u001b[39m\u001b[38;5;124m'\u001b[39m\u001b[38;5;124mend \u001b[39m\u001b[38;5;132;01m{\u001b[39;00ml\u001b[38;5;132;01m}\u001b[39;00m\u001b[38;5;124m \u001b[39m\u001b[38;5;132;01m{\u001b[39;00ms\u001b[38;5;132;01m}\u001b[39;00m\u001b[38;5;124m'\u001b[39m)\n",
      "Cell \u001b[1;32mIn[4], line 9\u001b[0m, in \u001b[0;36mmainExtractionComments\u001b[1;34m(url, out_path)\u001b[0m\n\u001b[0;32m      7\u001b[0m driver\u001b[38;5;241m.\u001b[39mquit()\n\u001b[0;32m      8\u001b[0m \u001b[38;5;28;01mfor\u001b[39;00m match \u001b[38;5;129;01min\u001b[39;00m matches_urls:\n\u001b[1;32m----> 9\u001b[0m     day, home, away, comment_def \u001b[38;5;241m=\u001b[39m\u001b[43mgetComments\u001b[49m\u001b[43m(\u001b[49m\u001b[43mmatch\u001b[49m\u001b[43m)\u001b[49m\n\u001b[0;32m     10\u001b[0m     file_out \u001b[38;5;241m=\u001b[39m os\u001b[38;5;241m.\u001b[39mpath\u001b[38;5;241m.\u001b[39mjoin(out_path, \u001b[38;5;124mf\u001b[39m\u001b[38;5;124m'\u001b[39m\u001b[38;5;132;01m{\u001b[39;00mday\u001b[38;5;132;01m}\u001b[39;00m\u001b[38;5;124m_\u001b[39m\u001b[38;5;132;01m{\u001b[39;00mhome\u001b[38;5;132;01m}\u001b[39;00m\u001b[38;5;124m_\u001b[39m\u001b[38;5;132;01m{\u001b[39;00maway\u001b[38;5;132;01m}\u001b[39;00m\u001b[38;5;124m.json\u001b[39m\u001b[38;5;124m'\u001b[39m)\n\u001b[0;32m     11\u001b[0m     writeJson(comment_def, file_out)\n",
      "Cell \u001b[1;32mIn[3], line 51\u001b[0m, in \u001b[0;36mgetComments\u001b[1;34m(url_commento)\u001b[0m\n\u001b[0;32m     49\u001b[0m \u001b[38;5;28;01melse\u001b[39;00m:\n\u001b[0;32m     50\u001b[0m     home, away \u001b[38;5;241m=\u001b[39m teams[\u001b[38;5;241m0\u001b[39m], teams[\u001b[38;5;241m1\u001b[39m]\n\u001b[1;32m---> 51\u001b[0m comments_button \u001b[38;5;241m=\u001b[39m \u001b[43m[\u001b[49m\u001b[43mx\u001b[49m\u001b[43m \u001b[49m\u001b[38;5;28;43;01mfor\u001b[39;49;00m\u001b[43m \u001b[49m\u001b[43mx\u001b[49m\u001b[43m \u001b[49m\u001b[38;5;129;43;01min\u001b[39;49;00m\u001b[43m \u001b[49m\u001b[43mdriver_match\u001b[49m\u001b[38;5;241;43m.\u001b[39;49m\u001b[43mfind_elements\u001b[49m\u001b[43m(\u001b[49m\u001b[43mBy\u001b[49m\u001b[38;5;241;43m.\u001b[39;49m\u001b[43mCLASS_NAME\u001b[49m\u001b[43m,\u001b[49m\u001b[43m \u001b[49m\u001b[38;5;124;43m'\u001b[39;49m\u001b[38;5;124;43m_tab_i2rza_4\u001b[39;49m\u001b[38;5;124;43m'\u001b[39;49m\u001b[43m)\u001b[49m\u001b[43m \u001b[49m\u001b[38;5;28;43;01mif\u001b[39;49;00m\u001b[43m \u001b[49m\u001b[43mx\u001b[49m\u001b[38;5;241;43m.\u001b[39;49m\u001b[43mtext\u001b[49m\u001b[43m \u001b[49m\u001b[38;5;241;43m==\u001b[39;49m\u001b[43m \u001b[49m\u001b[38;5;124;43m'\u001b[39;49m\u001b[38;5;124;43mCOMMENTO\u001b[39;49m\u001b[38;5;124;43m'\u001b[39;49m\u001b[43m]\u001b[49m\u001b[43m[\u001b[49m\u001b[38;5;241;43m0\u001b[39;49m\u001b[43m]\u001b[49m\n\u001b[0;32m     52\u001b[0m comments_button\u001b[38;5;241m.\u001b[39mclick()\n\u001b[0;32m     53\u001b[0m time\u001b[38;5;241m.\u001b[39msleep(\u001b[38;5;241m1\u001b[39m)\n",
      "\u001b[1;31mIndexError\u001b[0m: list index out of range"
     ]
    }
   ],
   "source": [
    "seasons = ['2023-2024', '2022-2023', '2021-2022', '2020-2021', '2019-2020']\n",
    "leagues = {'italia': ['Serie A'],'inghilterra': ['Premier League'], 'germania': ['Bundesliga'], 'francia': ['Ligue 1'], 'spagna': ['LaLiga'], 'portogallo': ['Liga Portugal'], 'europa':['Champions League', 'Europa League'],'olanda': ['Eredivisie']}\n",
    "dataset_path = \"Dataset//Direttait//\"\n",
    "for s in seasons:\n",
    "    for nat, league in leagues.items():\n",
    "        for l in league:\n",
    "            if(nat != 'italy' and s != '2023-2024'):\n",
    "                l_url = l.replace(' ', '-').lower()\n",
    "                url = f'https://www.diretta.it/calcio/{nat}/{l_url}-{s}/risultati/'\n",
    "                print(f'start {l} {s}')\n",
    "                league_path = os.path.join(dataset_path, l)\n",
    "                if not os.path.exists(league_path):\n",
    "                    os.makedirs(league_path)\n",
    "                season_league_path = os.path.join(league_path, s)\n",
    "                if not os.path.exists(season_league_path):\n",
    "                    os.makedirs(season_league_path)\n",
    "                mainExtractionComments(url, season_league_path)\n",
    "                print(f'end {l} {s}')\n",
    "            "
   ]
  },
  {
   "cell_type": "code",
   "execution_count": null,
   "metadata": {},
   "outputs": [],
   "source": []
  }
 ],
 "metadata": {
  "kernelspec": {
   "display_name": "Python 3",
   "language": "python",
   "name": "python3"
  },
  "language_info": {
   "codemirror_mode": {
    "name": "ipython",
    "version": 3
   },
   "file_extension": ".py",
   "mimetype": "text/x-python",
   "name": "python",
   "nbconvert_exporter": "python",
   "pygments_lexer": "ipython3",
   "version": "3.10.11"
  }
 },
 "nbformat": 4,
 "nbformat_minor": 2
}
