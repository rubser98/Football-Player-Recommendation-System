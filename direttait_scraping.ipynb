{
 "cells": [
  {
   "cell_type": "code",
   "execution_count": 179,
   "metadata": {},
   "outputs": [],
   "source": [
    "from selenium import webdriver\n",
    "from selenium.webdriver.common.by import By\n",
    "from selenium.webdriver.support.ui import WebDriverWait\n",
    "from selenium.webdriver.support import expected_conditions as EC\n",
    "from selenium.common.exceptions import ElementClickInterceptedException\n",
    "from selenium.webdriver.common.action_chains import ActionChains\n",
    "from selenium.common.exceptions import StaleElementReferenceException, NoSuchElementException\n",
    "import time"
   ]
  },
  {
   "cell_type": "code",
   "execution_count": 184,
   "metadata": {},
   "outputs": [],
   "source": [
    "def refuseCookies(driver):\n",
    "    try: \n",
    "        cookies = driver.find_element(By.ID, \"onetrust-reject-all-handler\")\n",
    "        cookies.click()       \n",
    "    except:\n",
    "        print('Non ci sono cookies')\n",
    "\n",
    "def showMore(driver):\n",
    "    show_more_matches = True\n",
    "    refuseCookies(driver)\n",
    "    while show_more_matches:\n",
    "        try:\n",
    "            button = driver.find_elements(By.CLASS_NAME, \"event__more\" )\n",
    "            if len(button) == 1:\n",
    "                button = button[0]\n",
    "            else:\n",
    "                print(len(button))\n",
    "                button = None\n",
    "            if button == None:\n",
    "                show_more_matches = False\n",
    "            else:\n",
    "                print(button.get_attribute('href'), button.text)\n",
    "                actions = ActionChains(driver)\n",
    "                actions.move_to_element(button).perform()\n",
    "                time.sleep(1)\n",
    "                #driver.execute_script(\"arguments[0].scrollIntoView(true);\", button)\n",
    "                actions.click(button).perform()\n",
    "        \n",
    "        except StaleElementReferenceException:\n",
    "            show_more_matches = False\n",
    "\n",
    "        except NoSuchElementException:\n",
    "            show_more_matches = False\n",
    "\n",
    "def getComments(driver, url_commento: str): \n",
    "    driver_match = webdriver.Chrome()\n",
    "    driver_match.get(url_commento)\n",
    "    teams = [x.text for x in driver.find_elements(By.CLASS_NAME, 'participant__participantName')]\n",
    "    home, away = teams[0], teams[2]\n",
    "    comments_button = [x for x in driver_match.find_elements(By.CLASS_NAME, '_tab_i2rza_4') if x.text == 'COMMENTO'][0]\n",
    "    comments_button.click()\n",
    "    time.sleep(1)\n",
    "    comments = [x.text for x in driver_match.find_elements(By.CLASS_NAME, '_general_1vhh5_4')]\n",
    "    driver_match.quit()\n",
    "    return home, away, comments\n",
    "        "
   ]
  },
  {
   "cell_type": "code",
   "execution_count": 201,
   "metadata": {},
   "outputs": [
    {
     "name": "stdout",
     "output_type": "stream",
     "text": [
      "https://www.diretta.it/serie-a/risultati/# Mostra più incontri\n",
      "https://www.diretta.it/serie-a/risultati/# Mostra più incontri\n",
      "https://www.diretta.it/serie-a/risultati/# Mostra più incontri\n",
      "https://www.diretta.it/serie-a/risultati/# Mostra più incontri\n",
      "68\n"
     ]
    }
   ],
   "source": [
    "url = 'https://www.diretta.it/serie-a/risultati/'\n",
    "driver = webdriver.Chrome()\n",
    "driver.get(url)\n",
    "showMore(driver)\n",
    "matches = driver.find_elements(By.CLASS_NAME, 'eventRowLink')\n",
    "url_commento = matches[0].get_property('href')\n",
    "home, away, comment_def =getComments(driver, url_commento)\n",
    "print(len(comment_def))"
   ]
  },
  {
   "cell_type": "code",
   "execution_count": 204,
   "metadata": {},
   "outputs": [
    {
     "data": {
      "text/plain": [
       "['La partita è finita.',\n",
       " 'Uno dei giocatori di Atalanta scatta troppo in anticipo e l’arbitro fischia fuorigioco.',\n",
       " \"Il calcio d'angolo battuto da Atalanta viene tranquillamente inhtercettato dai difensori avversari.\",\n",
       " \"Hans Hateboer (Atalanta) aggancia un preciso cross in area e conclude con rapidità, sfortunatamente per lui uno dei suoi compagni di squadra si trova sulla traiettoria del pallone e l'azione sfuma.\",\n",
       " \"Jonathan Ikone (Fiorentina) si trova in netto fuorigioco e l'assistente dell'arbitro non può che alzare la bandierina.\",\n",
       " 'Andrea Belotti (Fiorentina) riceve un passaggio filtrante in un posizione perfetta, ma uno dei difensori avversari gli ruba la palla. Brillante intervento.',\n",
       " 'Il quarto uomo segnala 5 minuti di recupero.',\n",
       " 'El Bilal Toure (Atalanta) interviene in maniera troppo aggressiva, e l’arbitro Daniele Orsato fischia il fallo.',\n",
       " 'Ci sarà un cambio. Antonin Barak (Fiorentina) al posto di Nicolas Gonzalez.',\n",
       " 'Vincenzo Italiano ha deciso di cambiare. Davide Faraoni (Fiorentina) sostituirà Michael Kayode.',\n",
       " 'Nicolas Gonzalez (Fiorentina) ha bisogno di cure da parte dello staff.',\n",
       " \"Luca Ranieri (Fiorentina) non può essere stupito. E' stata una decisione giusta quella presa dall'arbitro che ha così raffreddato la situazione. E' normale il giallo per falli come questi.\",\n",
       " 'Nicolas Gonzalez (Fiorentina) scatta verso la porta ma il difensore recupera bene e lo contrasta.',\n",
       " 'Problemi per Gian Piero Gasperini visto che Giorgio Scalvini sembra proprio non potercela fare. Hans Hateboer (Atalanta) entrerà al suo posto.',\n",
       " \"Cattive notizie per Giorgio Scalvini (Atalanta); non sappiamo l'entità del danno ma sembra intenzionato a voler abbandonare il campo.\",\n",
       " 'Giorgio Scalvini (Atalanta) è steso a terra per il precedente contrasto ed è stato chiamato lo staff sanitario per le cure del caso.',\n",
       " 'Teun Koopmeiners (Atalanta) è stato colto in fuorigioco, questione davvero di centimetri.',\n",
       " \"Il pallone esce e sarà calcio d'angolo. Fiorentina potrà proseguire l'attacco.\",\n",
       " 'Sostituzione. Alfred Duncan lascia il suo posto a Gino Infantino (Fiorentina).',\n",
       " 'Sostituzione. Lucas Beltran sarà rimpiazzato da Jonathan Ikone (Fiorentina).',\n",
       " 'Lucas Martinez Quarta (Fiorentina) prende un giallo per un brutto intervento e dovrà stare molto attento fino alla fine della partita.',\n",
       " 'Ecco il cambio. Rafael Toloi uscirà e nel frattempo Gian Piero Gasperini potrà dare le ultime delucidazioni a Berat Djimsiti (Atalanta).',\n",
       " 'Ecco il cambio. El Bilal Toure (Atalanta) viene messo dentro, a scendere sarà Charles De Ketelaere.',\n",
       " \"Calcio d'angolo racapitato sulla testa di Gianluca Scamacca (Atalanta) che da due passi non riesce a centrare i pali. Palla appena larga sulla destra.\",\n",
       " \"L'arbitro ed il suo assistente sono d'accordo per assegnare l'angolo a Atalanta.\",\n",
       " \"Gianluca Scamacca (Atalanta) prova a servire un compagno con un bel filtrante ma la difesa avversaria spazza il pallone. L'arbitro fischia il corner, Atalanta avrà questa possibilità.\",\n",
       " 'Fiorentina non riesce a sfruttare questo corner, il pallone viene spazzato dalla difesa.',\n",
       " 'Cristiano Biraghi (Fiorentina) fa un intervento duro e Daniele Orsato lo richiama per fallo.',\n",
       " 'Sostituzione. Jonathan Ikone (Fiorentina) entra e prende il posto di Alfred Duncan.',\n",
       " 'Ecco il cambio. Lucas Beltran ha lasciato il campo e Gino Infantino (Fiorentina) è entrato in sosituzione.',\n",
       " 'Il numero dei corner battuti finora è 2:2.',\n",
       " \"L'arbitro segnala il cambio. Christian Kouame (Fiorentina) viene inserito al posto di Gaetano Castrovilli.\",\n",
       " 'Daniele Orsato non può lasciar correre su questo deciso intervento di Rafael Toloi (Atalanta) e fischia il fallo.',\n",
       " \"Gioco fermo. Mario Pasalic (Atalanta) ha commesso un'infrazione. Nessuna protesta da parte del giocatore.\",\n",
       " 'Gian Piero Gasperini mette dentro forze fresche. Cambio quindi: Emil Holm uscirà e Aleksey Miranchuk (Atalanta) prenderà il suo posto.',\n",
       " \"C'è stata una sostituzione. Su Gianluca Scamacca (Atalanta), giù Ademola Lookman.\",\n",
       " 'Bandierina alzata. Ademola Lookman (Atalanta) è in fuorigioco.',\n",
       " 'Corner. Batterà Fiorentina.',\n",
       " 'Alfred Duncan (Fiorentina) prova a sorprendere il portiere con un bel tiro, il pallone esce però di poco sulla sinistra.',\n",
       " 'Tommaso Martinelli è molto bravo a leggere la giocata e ad allontanare così il pericolo, Teun Koopmeiners (Atalanta) per poco non aggancia un pericoloso filtrante.',\n",
       " 'Charles De Ketelaere (Atalanta) prova a imbeccare Ademola Lookman ma dosa male il suo passaggio e l’occasione sfuma.',\n",
       " \"Rieccoci dopo l'intervallo. I giocatori sono tornati sul terreno di gioco, ancora pochi istanti ed il match ripartirà.\",\n",
       " 'Non succederà più nulla nel primo tempo di questa partita.',\n",
       " 'Fiorentina guadagna un tiro dalla bandierina.',\n",
       " 'Matteo Ruggeri (Atalanta) lascia partire un buon calcio da appena fuori area che va di poco a lato del palo sinistro.',\n",
       " 'Ademola Lookman (Atalanta) crossa in area e non è stata una brutta idea, ma non ottiene quello che voleva perché la palla non arriva a nessuno dei sui compagni di squadra.',\n",
       " 'Ademola Lookman (Atalanta) sembrava potesse involarsi ma uno dei difensori ha chiuso bene.',\n",
       " 'Andrea Belotti (Fiorentina) non segue apparentemente la regola d’oro: “non fare agli altri quello che non vorresti fosse fatto a te”. Commette infatti un brutto fallo e Daniele Orsato non ha altra scelta che fischiarlo.',\n",
       " 'Gaetano Castrovilli (Fiorentina), aspettando la sua occasione, riceve dal fondo un bellissimo assist rasoterra. Tuttavia, la difesa è posizionata bene e spazza via la palla.',\n",
       " 'Ademola Lookman (Atalanta) mette in area un bel pallone ma il tentativo viene fermato.',\n",
       " '53:47 – questa la percentuale del possesso palla.',\n",
       " 'Cambio di campo fuori misura. Gaetano Castrovilli (Fiorentina) ha fatto del suo meglio per tentare di tenere in gioco la sfera ma il passaggio era troppo lungo.',\n",
       " 'Atalanta non riesce a segnare da calcio d’angolo poiché il portiere esce a raccogliere la palla.',\n",
       " \"Il cross di Emil Holm (Atalanta) è intercettato da uno dei giocatori della difesa. Il pallone termina in out e l'arbitro indica la bandierina. Sarà Atalanta a battere.\",\n",
       " 'Lucas Martinez Quarta (Fiorentina) compie un ruvido intervento e Daniele Orsato segnala il fallo.',\n",
       " 'Lucas Martinez Quarta (Fiorentina) commette un fallo pericoloso per recuperare palla. Daniele Orsato vede tutto e fischia fallo.',\n",
       " \"Cross lungo in mezzo all'area per Emil Holm (Atalanta) ma il colpo di testa gira troppo ed esce di un soffio sulla destra.\",\n",
       " 'I giocatori del Fiorentina si scambiano alcuni passaggi corti.',\n",
       " 'Il guardalinee alza la bandierina, Atalanta ha un giocatore in fuorigioco.',\n",
       " \"Lucas Beltran (Fiorentina) raccoglie un passaggio lungo ma Marco Carnesecchi con grande visione e tempismo interviene e ferma subito l'azione.\",\n",
       " \"Charles De Ketelaere (Atalanta) calcia l'angolo ma uno dei difensori ben reattivo vola alto e di testa libera l'area.\",\n",
       " 'Pallone che viene allontanato dopo che Lucas Martinez Quarta (Fiorentina) ha provato a superare un avversario.',\n",
       " 'I giocatori del Atalanta si scambiano continuamente palla nel tentativo di creare spazio per il tiro.',\n",
       " 'Il primo tempo è appena iniziato.',\n",
       " 'I giocatori sono tutti disposti in campo e Fiorentina darà il via alla partita.',\n",
       " 'Il direttore di gara è Daniele Orsato.',\n",
       " 'Benvenuti alla diretta minuto per minuto dello scontro odierno. Godetevi la cronaca di tutto quello che succederà sul rettangolo verde. Divertitevi.',\n",
       " \"Per dare un occhio agli 11 titolari delle due formazioni cliccate sull'etichetta Formazioni.\"]"
      ]
     },
     "execution_count": 204,
     "metadata": {},
     "output_type": "execute_result"
    }
   ],
   "source": [
    "comment_def"
   ]
  },
  {
   "cell_type": "code",
   "execution_count": 195,
   "metadata": {},
   "outputs": [
    {
     "data": {
      "text/plain": [
       "[<selenium.webdriver.remote.webelement.WebElement (session=\"4cb4c6d7b7549ea572cd57f94d9ecdb3\", element=\"f.18207F159F1DAF16D7FBE18E6B2C962A.d.F4005CD412843AE4211736C708792141.e.75\")>,\n",
       " <selenium.webdriver.remote.webelement.WebElement (session=\"4cb4c6d7b7549ea572cd57f94d9ecdb3\", element=\"f.18207F159F1DAF16D7FBE18E6B2C962A.d.F4005CD412843AE4211736C708792141.e.76\")>,\n",
       " <selenium.webdriver.remote.webelement.WebElement (session=\"4cb4c6d7b7549ea572cd57f94d9ecdb3\", element=\"f.18207F159F1DAF16D7FBE18E6B2C962A.d.F4005CD412843AE4211736C708792141.e.77\")>,\n",
       " <selenium.webdriver.remote.webelement.WebElement (session=\"4cb4c6d7b7549ea572cd57f94d9ecdb3\", element=\"f.18207F159F1DAF16D7FBE18E6B2C962A.d.F4005CD412843AE4211736C708792141.e.78\")>,\n",
       " <selenium.webdriver.remote.webelement.WebElement (session=\"4cb4c6d7b7549ea572cd57f94d9ecdb3\", element=\"f.18207F159F1DAF16D7FBE18E6B2C962A.d.F4005CD412843AE4211736C708792141.e.79\")>,\n",
       " <selenium.webdriver.remote.webelement.WebElement (session=\"4cb4c6d7b7549ea572cd57f94d9ecdb3\", element=\"f.18207F159F1DAF16D7FBE18E6B2C962A.d.F4005CD412843AE4211736C708792141.e.80\")>,\n",
       " <selenium.webdriver.remote.webelement.WebElement (session=\"4cb4c6d7b7549ea572cd57f94d9ecdb3\", element=\"f.18207F159F1DAF16D7FBE18E6B2C962A.d.F4005CD412843AE4211736C708792141.e.81\")>,\n",
       " <selenium.webdriver.remote.webelement.WebElement (session=\"4cb4c6d7b7549ea572cd57f94d9ecdb3\", element=\"f.18207F159F1DAF16D7FBE18E6B2C962A.d.F4005CD412843AE4211736C708792141.e.82\")>,\n",
       " <selenium.webdriver.remote.webelement.WebElement (session=\"4cb4c6d7b7549ea572cd57f94d9ecdb3\", element=\"f.18207F159F1DAF16D7FBE18E6B2C962A.d.F4005CD412843AE4211736C708792141.e.83\")>,\n",
       " <selenium.webdriver.remote.webelement.WebElement (session=\"4cb4c6d7b7549ea572cd57f94d9ecdb3\", element=\"f.18207F159F1DAF16D7FBE18E6B2C962A.d.F4005CD412843AE4211736C708792141.e.84\")>,\n",
       " <selenium.webdriver.remote.webelement.WebElement (session=\"4cb4c6d7b7549ea572cd57f94d9ecdb3\", element=\"f.18207F159F1DAF16D7FBE18E6B2C962A.d.F4005CD412843AE4211736C708792141.e.85\")>,\n",
       " <selenium.webdriver.remote.webelement.WebElement (session=\"4cb4c6d7b7549ea572cd57f94d9ecdb3\", element=\"f.18207F159F1DAF16D7FBE18E6B2C962A.d.F4005CD412843AE4211736C708792141.e.86\")>,\n",
       " <selenium.webdriver.remote.webelement.WebElement (session=\"4cb4c6d7b7549ea572cd57f94d9ecdb3\", element=\"f.18207F159F1DAF16D7FBE18E6B2C962A.d.F4005CD412843AE4211736C708792141.e.87\")>,\n",
       " <selenium.webdriver.remote.webelement.WebElement (session=\"4cb4c6d7b7549ea572cd57f94d9ecdb3\", element=\"f.18207F159F1DAF16D7FBE18E6B2C962A.d.F4005CD412843AE4211736C708792141.e.88\")>,\n",
       " <selenium.webdriver.remote.webelement.WebElement (session=\"4cb4c6d7b7549ea572cd57f94d9ecdb3\", element=\"f.18207F159F1DAF16D7FBE18E6B2C962A.d.F4005CD412843AE4211736C708792141.e.89\")>,\n",
       " <selenium.webdriver.remote.webelement.WebElement (session=\"4cb4c6d7b7549ea572cd57f94d9ecdb3\", element=\"f.18207F159F1DAF16D7FBE18E6B2C962A.d.F4005CD412843AE4211736C708792141.e.90\")>,\n",
       " <selenium.webdriver.remote.webelement.WebElement (session=\"4cb4c6d7b7549ea572cd57f94d9ecdb3\", element=\"f.18207F159F1DAF16D7FBE18E6B2C962A.d.F4005CD412843AE4211736C708792141.e.91\")>,\n",
       " <selenium.webdriver.remote.webelement.WebElement (session=\"4cb4c6d7b7549ea572cd57f94d9ecdb3\", element=\"f.18207F159F1DAF16D7FBE18E6B2C962A.d.F4005CD412843AE4211736C708792141.e.92\")>,\n",
       " <selenium.webdriver.remote.webelement.WebElement (session=\"4cb4c6d7b7549ea572cd57f94d9ecdb3\", element=\"f.18207F159F1DAF16D7FBE18E6B2C962A.d.F4005CD412843AE4211736C708792141.e.93\")>,\n",
       " <selenium.webdriver.remote.webelement.WebElement (session=\"4cb4c6d7b7549ea572cd57f94d9ecdb3\", element=\"f.18207F159F1DAF16D7FBE18E6B2C962A.d.F4005CD412843AE4211736C708792141.e.94\")>,\n",
       " <selenium.webdriver.remote.webelement.WebElement (session=\"4cb4c6d7b7549ea572cd57f94d9ecdb3\", element=\"f.18207F159F1DAF16D7FBE18E6B2C962A.d.F4005CD412843AE4211736C708792141.e.95\")>,\n",
       " <selenium.webdriver.remote.webelement.WebElement (session=\"4cb4c6d7b7549ea572cd57f94d9ecdb3\", element=\"f.18207F159F1DAF16D7FBE18E6B2C962A.d.F4005CD412843AE4211736C708792141.e.96\")>,\n",
       " <selenium.webdriver.remote.webelement.WebElement (session=\"4cb4c6d7b7549ea572cd57f94d9ecdb3\", element=\"f.18207F159F1DAF16D7FBE18E6B2C962A.d.F4005CD412843AE4211736C708792141.e.97\")>,\n",
       " <selenium.webdriver.remote.webelement.WebElement (session=\"4cb4c6d7b7549ea572cd57f94d9ecdb3\", element=\"f.18207F159F1DAF16D7FBE18E6B2C962A.d.F4005CD412843AE4211736C708792141.e.98\")>,\n",
       " <selenium.webdriver.remote.webelement.WebElement (session=\"4cb4c6d7b7549ea572cd57f94d9ecdb3\", element=\"f.18207F159F1DAF16D7FBE18E6B2C962A.d.F4005CD412843AE4211736C708792141.e.99\")>,\n",
       " <selenium.webdriver.remote.webelement.WebElement (session=\"4cb4c6d7b7549ea572cd57f94d9ecdb3\", element=\"f.18207F159F1DAF16D7FBE18E6B2C962A.d.F4005CD412843AE4211736C708792141.e.100\")>,\n",
       " <selenium.webdriver.remote.webelement.WebElement (session=\"4cb4c6d7b7549ea572cd57f94d9ecdb3\", element=\"f.18207F159F1DAF16D7FBE18E6B2C962A.d.F4005CD412843AE4211736C708792141.e.101\")>,\n",
       " <selenium.webdriver.remote.webelement.WebElement (session=\"4cb4c6d7b7549ea572cd57f94d9ecdb3\", element=\"f.18207F159F1DAF16D7FBE18E6B2C962A.d.F4005CD412843AE4211736C708792141.e.102\")>,\n",
       " <selenium.webdriver.remote.webelement.WebElement (session=\"4cb4c6d7b7549ea572cd57f94d9ecdb3\", element=\"f.18207F159F1DAF16D7FBE18E6B2C962A.d.F4005CD412843AE4211736C708792141.e.103\")>,\n",
       " <selenium.webdriver.remote.webelement.WebElement (session=\"4cb4c6d7b7549ea572cd57f94d9ecdb3\", element=\"f.18207F159F1DAF16D7FBE18E6B2C962A.d.F4005CD412843AE4211736C708792141.e.104\")>,\n",
       " <selenium.webdriver.remote.webelement.WebElement (session=\"4cb4c6d7b7549ea572cd57f94d9ecdb3\", element=\"f.18207F159F1DAF16D7FBE18E6B2C962A.d.F4005CD412843AE4211736C708792141.e.105\")>,\n",
       " <selenium.webdriver.remote.webelement.WebElement (session=\"4cb4c6d7b7549ea572cd57f94d9ecdb3\", element=\"f.18207F159F1DAF16D7FBE18E6B2C962A.d.F4005CD412843AE4211736C708792141.e.106\")>,\n",
       " <selenium.webdriver.remote.webelement.WebElement (session=\"4cb4c6d7b7549ea572cd57f94d9ecdb3\", element=\"f.18207F159F1DAF16D7FBE18E6B2C962A.d.F4005CD412843AE4211736C708792141.e.107\")>,\n",
       " <selenium.webdriver.remote.webelement.WebElement (session=\"4cb4c6d7b7549ea572cd57f94d9ecdb3\", element=\"f.18207F159F1DAF16D7FBE18E6B2C962A.d.F4005CD412843AE4211736C708792141.e.108\")>,\n",
       " <selenium.webdriver.remote.webelement.WebElement (session=\"4cb4c6d7b7549ea572cd57f94d9ecdb3\", element=\"f.18207F159F1DAF16D7FBE18E6B2C962A.d.F4005CD412843AE4211736C708792141.e.109\")>,\n",
       " <selenium.webdriver.remote.webelement.WebElement (session=\"4cb4c6d7b7549ea572cd57f94d9ecdb3\", element=\"f.18207F159F1DAF16D7FBE18E6B2C962A.d.F4005CD412843AE4211736C708792141.e.110\")>,\n",
       " <selenium.webdriver.remote.webelement.WebElement (session=\"4cb4c6d7b7549ea572cd57f94d9ecdb3\", element=\"f.18207F159F1DAF16D7FBE18E6B2C962A.d.F4005CD412843AE4211736C708792141.e.111\")>,\n",
       " <selenium.webdriver.remote.webelement.WebElement (session=\"4cb4c6d7b7549ea572cd57f94d9ecdb3\", element=\"f.18207F159F1DAF16D7FBE18E6B2C962A.d.F4005CD412843AE4211736C708792141.e.112\")>,\n",
       " <selenium.webdriver.remote.webelement.WebElement (session=\"4cb4c6d7b7549ea572cd57f94d9ecdb3\", element=\"f.18207F159F1DAF16D7FBE18E6B2C962A.d.F4005CD412843AE4211736C708792141.e.113\")>,\n",
       " <selenium.webdriver.remote.webelement.WebElement (session=\"4cb4c6d7b7549ea572cd57f94d9ecdb3\", element=\"f.18207F159F1DAF16D7FBE18E6B2C962A.d.F4005CD412843AE4211736C708792141.e.114\")>,\n",
       " <selenium.webdriver.remote.webelement.WebElement (session=\"4cb4c6d7b7549ea572cd57f94d9ecdb3\", element=\"f.18207F159F1DAF16D7FBE18E6B2C962A.d.F4005CD412843AE4211736C708792141.e.115\")>,\n",
       " <selenium.webdriver.remote.webelement.WebElement (session=\"4cb4c6d7b7549ea572cd57f94d9ecdb3\", element=\"f.18207F159F1DAF16D7FBE18E6B2C962A.d.F4005CD412843AE4211736C708792141.e.116\")>,\n",
       " <selenium.webdriver.remote.webelement.WebElement (session=\"4cb4c6d7b7549ea572cd57f94d9ecdb3\", element=\"f.18207F159F1DAF16D7FBE18E6B2C962A.d.F4005CD412843AE4211736C708792141.e.117\")>,\n",
       " <selenium.webdriver.remote.webelement.WebElement (session=\"4cb4c6d7b7549ea572cd57f94d9ecdb3\", element=\"f.18207F159F1DAF16D7FBE18E6B2C962A.d.F4005CD412843AE4211736C708792141.e.118\")>,\n",
       " <selenium.webdriver.remote.webelement.WebElement (session=\"4cb4c6d7b7549ea572cd57f94d9ecdb3\", element=\"f.18207F159F1DAF16D7FBE18E6B2C962A.d.F4005CD412843AE4211736C708792141.e.119\")>,\n",
       " <selenium.webdriver.remote.webelement.WebElement (session=\"4cb4c6d7b7549ea572cd57f94d9ecdb3\", element=\"f.18207F159F1DAF16D7FBE18E6B2C962A.d.F4005CD412843AE4211736C708792141.e.120\")>,\n",
       " <selenium.webdriver.remote.webelement.WebElement (session=\"4cb4c6d7b7549ea572cd57f94d9ecdb3\", element=\"f.18207F159F1DAF16D7FBE18E6B2C962A.d.F4005CD412843AE4211736C708792141.e.121\")>,\n",
       " <selenium.webdriver.remote.webelement.WebElement (session=\"4cb4c6d7b7549ea572cd57f94d9ecdb3\", element=\"f.18207F159F1DAF16D7FBE18E6B2C962A.d.F4005CD412843AE4211736C708792141.e.122\")>,\n",
       " <selenium.webdriver.remote.webelement.WebElement (session=\"4cb4c6d7b7549ea572cd57f94d9ecdb3\", element=\"f.18207F159F1DAF16D7FBE18E6B2C962A.d.F4005CD412843AE4211736C708792141.e.123\")>,\n",
       " <selenium.webdriver.remote.webelement.WebElement (session=\"4cb4c6d7b7549ea572cd57f94d9ecdb3\", element=\"f.18207F159F1DAF16D7FBE18E6B2C962A.d.F4005CD412843AE4211736C708792141.e.124\")>,\n",
       " <selenium.webdriver.remote.webelement.WebElement (session=\"4cb4c6d7b7549ea572cd57f94d9ecdb3\", element=\"f.18207F159F1DAF16D7FBE18E6B2C962A.d.F4005CD412843AE4211736C708792141.e.125\")>,\n",
       " <selenium.webdriver.remote.webelement.WebElement (session=\"4cb4c6d7b7549ea572cd57f94d9ecdb3\", element=\"f.18207F159F1DAF16D7FBE18E6B2C962A.d.F4005CD412843AE4211736C708792141.e.126\")>,\n",
       " <selenium.webdriver.remote.webelement.WebElement (session=\"4cb4c6d7b7549ea572cd57f94d9ecdb3\", element=\"f.18207F159F1DAF16D7FBE18E6B2C962A.d.F4005CD412843AE4211736C708792141.e.127\")>,\n",
       " <selenium.webdriver.remote.webelement.WebElement (session=\"4cb4c6d7b7549ea572cd57f94d9ecdb3\", element=\"f.18207F159F1DAF16D7FBE18E6B2C962A.d.F4005CD412843AE4211736C708792141.e.128\")>,\n",
       " <selenium.webdriver.remote.webelement.WebElement (session=\"4cb4c6d7b7549ea572cd57f94d9ecdb3\", element=\"f.18207F159F1DAF16D7FBE18E6B2C962A.d.F4005CD412843AE4211736C708792141.e.129\")>,\n",
       " <selenium.webdriver.remote.webelement.WebElement (session=\"4cb4c6d7b7549ea572cd57f94d9ecdb3\", element=\"f.18207F159F1DAF16D7FBE18E6B2C962A.d.F4005CD412843AE4211736C708792141.e.130\")>,\n",
       " <selenium.webdriver.remote.webelement.WebElement (session=\"4cb4c6d7b7549ea572cd57f94d9ecdb3\", element=\"f.18207F159F1DAF16D7FBE18E6B2C962A.d.F4005CD412843AE4211736C708792141.e.131\")>,\n",
       " <selenium.webdriver.remote.webelement.WebElement (session=\"4cb4c6d7b7549ea572cd57f94d9ecdb3\", element=\"f.18207F159F1DAF16D7FBE18E6B2C962A.d.F4005CD412843AE4211736C708792141.e.132\")>,\n",
       " <selenium.webdriver.remote.webelement.WebElement (session=\"4cb4c6d7b7549ea572cd57f94d9ecdb3\", element=\"f.18207F159F1DAF16D7FBE18E6B2C962A.d.F4005CD412843AE4211736C708792141.e.133\")>,\n",
       " <selenium.webdriver.remote.webelement.WebElement (session=\"4cb4c6d7b7549ea572cd57f94d9ecdb3\", element=\"f.18207F159F1DAF16D7FBE18E6B2C962A.d.F4005CD412843AE4211736C708792141.e.134\")>,\n",
       " <selenium.webdriver.remote.webelement.WebElement (session=\"4cb4c6d7b7549ea572cd57f94d9ecdb3\", element=\"f.18207F159F1DAF16D7FBE18E6B2C962A.d.F4005CD412843AE4211736C708792141.e.135\")>,\n",
       " <selenium.webdriver.remote.webelement.WebElement (session=\"4cb4c6d7b7549ea572cd57f94d9ecdb3\", element=\"f.18207F159F1DAF16D7FBE18E6B2C962A.d.F4005CD412843AE4211736C708792141.e.136\")>,\n",
       " <selenium.webdriver.remote.webelement.WebElement (session=\"4cb4c6d7b7549ea572cd57f94d9ecdb3\", element=\"f.18207F159F1DAF16D7FBE18E6B2C962A.d.F4005CD412843AE4211736C708792141.e.137\")>,\n",
       " <selenium.webdriver.remote.webelement.WebElement (session=\"4cb4c6d7b7549ea572cd57f94d9ecdb3\", element=\"f.18207F159F1DAF16D7FBE18E6B2C962A.d.F4005CD412843AE4211736C708792141.e.138\")>,\n",
       " <selenium.webdriver.remote.webelement.WebElement (session=\"4cb4c6d7b7549ea572cd57f94d9ecdb3\", element=\"f.18207F159F1DAF16D7FBE18E6B2C962A.d.F4005CD412843AE4211736C708792141.e.139\")>,\n",
       " <selenium.webdriver.remote.webelement.WebElement (session=\"4cb4c6d7b7549ea572cd57f94d9ecdb3\", element=\"f.18207F159F1DAF16D7FBE18E6B2C962A.d.F4005CD412843AE4211736C708792141.e.140\")>,\n",
       " <selenium.webdriver.remote.webelement.WebElement (session=\"4cb4c6d7b7549ea572cd57f94d9ecdb3\", element=\"f.18207F159F1DAF16D7FBE18E6B2C962A.d.F4005CD412843AE4211736C708792141.e.141\")>,\n",
       " <selenium.webdriver.remote.webelement.WebElement (session=\"4cb4c6d7b7549ea572cd57f94d9ecdb3\", element=\"f.18207F159F1DAF16D7FBE18E6B2C962A.d.F4005CD412843AE4211736C708792141.e.142\")>,\n",
       " <selenium.webdriver.remote.webelement.WebElement (session=\"4cb4c6d7b7549ea572cd57f94d9ecdb3\", element=\"f.18207F159F1DAF16D7FBE18E6B2C962A.d.F4005CD412843AE4211736C708792141.e.143\")>,\n",
       " <selenium.webdriver.remote.webelement.WebElement (session=\"4cb4c6d7b7549ea572cd57f94d9ecdb3\", element=\"f.18207F159F1DAF16D7FBE18E6B2C962A.d.F4005CD412843AE4211736C708792141.e.144\")>,\n",
       " <selenium.webdriver.remote.webelement.WebElement (session=\"4cb4c6d7b7549ea572cd57f94d9ecdb3\", element=\"f.18207F159F1DAF16D7FBE18E6B2C962A.d.F4005CD412843AE4211736C708792141.e.145\")>,\n",
       " <selenium.webdriver.remote.webelement.WebElement (session=\"4cb4c6d7b7549ea572cd57f94d9ecdb3\", element=\"f.18207F159F1DAF16D7FBE18E6B2C962A.d.F4005CD412843AE4211736C708792141.e.146\")>,\n",
       " <selenium.webdriver.remote.webelement.WebElement (session=\"4cb4c6d7b7549ea572cd57f94d9ecdb3\", element=\"f.18207F159F1DAF16D7FBE18E6B2C962A.d.F4005CD412843AE4211736C708792141.e.147\")>,\n",
       " <selenium.webdriver.remote.webelement.WebElement (session=\"4cb4c6d7b7549ea572cd57f94d9ecdb3\", element=\"f.18207F159F1DAF16D7FBE18E6B2C962A.d.F4005CD412843AE4211736C708792141.e.148\")>,\n",
       " <selenium.webdriver.remote.webelement.WebElement (session=\"4cb4c6d7b7549ea572cd57f94d9ecdb3\", element=\"f.18207F159F1DAF16D7FBE18E6B2C962A.d.F4005CD412843AE4211736C708792141.e.149\")>,\n",
       " <selenium.webdriver.remote.webelement.WebElement (session=\"4cb4c6d7b7549ea572cd57f94d9ecdb3\", element=\"f.18207F159F1DAF16D7FBE18E6B2C962A.d.F4005CD412843AE4211736C708792141.e.150\")>,\n",
       " <selenium.webdriver.remote.webelement.WebElement (session=\"4cb4c6d7b7549ea572cd57f94d9ecdb3\", element=\"f.18207F159F1DAF16D7FBE18E6B2C962A.d.F4005CD412843AE4211736C708792141.e.151\")>,\n",
       " <selenium.webdriver.remote.webelement.WebElement (session=\"4cb4c6d7b7549ea572cd57f94d9ecdb3\", element=\"f.18207F159F1DAF16D7FBE18E6B2C962A.d.F4005CD412843AE4211736C708792141.e.152\")>,\n",
       " <selenium.webdriver.remote.webelement.WebElement (session=\"4cb4c6d7b7549ea572cd57f94d9ecdb3\", element=\"f.18207F159F1DAF16D7FBE18E6B2C962A.d.F4005CD412843AE4211736C708792141.e.153\")>,\n",
       " <selenium.webdriver.remote.webelement.WebElement (session=\"4cb4c6d7b7549ea572cd57f94d9ecdb3\", element=\"f.18207F159F1DAF16D7FBE18E6B2C962A.d.F4005CD412843AE4211736C708792141.e.154\")>,\n",
       " <selenium.webdriver.remote.webelement.WebElement (session=\"4cb4c6d7b7549ea572cd57f94d9ecdb3\", element=\"f.18207F159F1DAF16D7FBE18E6B2C962A.d.F4005CD412843AE4211736C708792141.e.155\")>,\n",
       " <selenium.webdriver.remote.webelement.WebElement (session=\"4cb4c6d7b7549ea572cd57f94d9ecdb3\", element=\"f.18207F159F1DAF16D7FBE18E6B2C962A.d.F4005CD412843AE4211736C708792141.e.156\")>,\n",
       " <selenium.webdriver.remote.webelement.WebElement (session=\"4cb4c6d7b7549ea572cd57f94d9ecdb3\", element=\"f.18207F159F1DAF16D7FBE18E6B2C962A.d.F4005CD412843AE4211736C708792141.e.157\")>,\n",
       " <selenium.webdriver.remote.webelement.WebElement (session=\"4cb4c6d7b7549ea572cd57f94d9ecdb3\", element=\"f.18207F159F1DAF16D7FBE18E6B2C962A.d.F4005CD412843AE4211736C708792141.e.158\")>,\n",
       " <selenium.webdriver.remote.webelement.WebElement (session=\"4cb4c6d7b7549ea572cd57f94d9ecdb3\", element=\"f.18207F159F1DAF16D7FBE18E6B2C962A.d.F4005CD412843AE4211736C708792141.e.159\")>,\n",
       " <selenium.webdriver.remote.webelement.WebElement (session=\"4cb4c6d7b7549ea572cd57f94d9ecdb3\", element=\"f.18207F159F1DAF16D7FBE18E6B2C962A.d.F4005CD412843AE4211736C708792141.e.160\")>,\n",
       " <selenium.webdriver.remote.webelement.WebElement (session=\"4cb4c6d7b7549ea572cd57f94d9ecdb3\", element=\"f.18207F159F1DAF16D7FBE18E6B2C962A.d.F4005CD412843AE4211736C708792141.e.161\")>,\n",
       " <selenium.webdriver.remote.webelement.WebElement (session=\"4cb4c6d7b7549ea572cd57f94d9ecdb3\", element=\"f.18207F159F1DAF16D7FBE18E6B2C962A.d.F4005CD412843AE4211736C708792141.e.162\")>,\n",
       " <selenium.webdriver.remote.webelement.WebElement (session=\"4cb4c6d7b7549ea572cd57f94d9ecdb3\", element=\"f.18207F159F1DAF16D7FBE18E6B2C962A.d.F4005CD412843AE4211736C708792141.e.163\")>,\n",
       " <selenium.webdriver.remote.webelement.WebElement (session=\"4cb4c6d7b7549ea572cd57f94d9ecdb3\", element=\"f.18207F159F1DAF16D7FBE18E6B2C962A.d.F4005CD412843AE4211736C708792141.e.164\")>,\n",
       " <selenium.webdriver.remote.webelement.WebElement (session=\"4cb4c6d7b7549ea572cd57f94d9ecdb3\", element=\"f.18207F159F1DAF16D7FBE18E6B2C962A.d.F4005CD412843AE4211736C708792141.e.165\")>,\n",
       " <selenium.webdriver.remote.webelement.WebElement (session=\"4cb4c6d7b7549ea572cd57f94d9ecdb3\", element=\"f.18207F159F1DAF16D7FBE18E6B2C962A.d.F4005CD412843AE4211736C708792141.e.166\")>,\n",
       " <selenium.webdriver.remote.webelement.WebElement (session=\"4cb4c6d7b7549ea572cd57f94d9ecdb3\", element=\"f.18207F159F1DAF16D7FBE18E6B2C962A.d.F4005CD412843AE4211736C708792141.e.167\")>,\n",
       " <selenium.webdriver.remote.webelement.WebElement (session=\"4cb4c6d7b7549ea572cd57f94d9ecdb3\", element=\"f.18207F159F1DAF16D7FBE18E6B2C962A.d.F4005CD412843AE4211736C708792141.e.168\")>,\n",
       " <selenium.webdriver.remote.webelement.WebElement (session=\"4cb4c6d7b7549ea572cd57f94d9ecdb3\", element=\"f.18207F159F1DAF16D7FBE18E6B2C962A.d.F4005CD412843AE4211736C708792141.e.169\")>,\n",
       " <selenium.webdriver.remote.webelement.WebElement (session=\"4cb4c6d7b7549ea572cd57f94d9ecdb3\", element=\"f.18207F159F1DAF16D7FBE18E6B2C962A.d.F4005CD412843AE4211736C708792141.e.170\")>,\n",
       " <selenium.webdriver.remote.webelement.WebElement (session=\"4cb4c6d7b7549ea572cd57f94d9ecdb3\", element=\"f.18207F159F1DAF16D7FBE18E6B2C962A.d.F4005CD412843AE4211736C708792141.e.171\")>,\n",
       " <selenium.webdriver.remote.webelement.WebElement (session=\"4cb4c6d7b7549ea572cd57f94d9ecdb3\", element=\"f.18207F159F1DAF16D7FBE18E6B2C962A.d.F4005CD412843AE4211736C708792141.e.172\")>,\n",
       " <selenium.webdriver.remote.webelement.WebElement (session=\"4cb4c6d7b7549ea572cd57f94d9ecdb3\", element=\"f.18207F159F1DAF16D7FBE18E6B2C962A.d.F4005CD412843AE4211736C708792141.e.173\")>,\n",
       " <selenium.webdriver.remote.webelement.WebElement (session=\"4cb4c6d7b7549ea572cd57f94d9ecdb3\", element=\"f.18207F159F1DAF16D7FBE18E6B2C962A.d.F4005CD412843AE4211736C708792141.e.174\")>,\n",
       " <selenium.webdriver.remote.webelement.WebElement (session=\"4cb4c6d7b7549ea572cd57f94d9ecdb3\", element=\"f.18207F159F1DAF16D7FBE18E6B2C962A.d.F4005CD412843AE4211736C708792141.e.175\")>,\n",
       " <selenium.webdriver.remote.webelement.WebElement (session=\"4cb4c6d7b7549ea572cd57f94d9ecdb3\", element=\"f.18207F159F1DAF16D7FBE18E6B2C962A.d.F4005CD412843AE4211736C708792141.e.176\")>,\n",
       " <selenium.webdriver.remote.webelement.WebElement (session=\"4cb4c6d7b7549ea572cd57f94d9ecdb3\", element=\"f.18207F159F1DAF16D7FBE18E6B2C962A.d.F4005CD412843AE4211736C708792141.e.177\")>,\n",
       " <selenium.webdriver.remote.webelement.WebElement (session=\"4cb4c6d7b7549ea572cd57f94d9ecdb3\", element=\"f.18207F159F1DAF16D7FBE18E6B2C962A.d.F4005CD412843AE4211736C708792141.e.178\")>,\n",
       " <selenium.webdriver.remote.webelement.WebElement (session=\"4cb4c6d7b7549ea572cd57f94d9ecdb3\", element=\"f.18207F159F1DAF16D7FBE18E6B2C962A.d.F4005CD412843AE4211736C708792141.e.179\")>]"
      ]
     },
     "execution_count": 195,
     "metadata": {},
     "output_type": "execute_result"
    }
   ],
   "source": [
    "matches"
   ]
  },
  {
   "cell_type": "code",
   "execution_count": 188,
   "metadata": {},
   "outputs": [],
   "source": [
    "driver.quit()"
   ]
  },
  {
   "cell_type": "code",
   "execution_count": 197,
   "metadata": {},
   "outputs": [],
   "source": [
    "url_commento = matches[100].get_property('href')"
   ]
  },
  {
   "cell_type": "code",
   "execution_count": 202,
   "metadata": {},
   "outputs": [],
   "source": [
    "url_commento = matches[300].get_property('href')\n",
    "driver = webdriver.Chrome()\n",
    "driver.get(url_commento)"
   ]
  },
  {
   "cell_type": "code",
   "execution_count": 203,
   "metadata": {},
   "outputs": [
    {
     "data": {
      "text/plain": [
       "['Napoli', 'Napoli', 'Fiorentina', 'Fiorentina']"
      ]
     },
     "execution_count": 203,
     "metadata": {},
     "output_type": "execute_result"
    }
   ],
   "source": [
    "[x.text for x in driver.find_elements(By.CLASS_NAME, 'participant__participantName')]"
   ]
  },
  {
   "cell_type": "code",
   "execution_count": null,
   "metadata": {},
   "outputs": [],
   "source": []
  }
 ],
 "metadata": {
  "kernelspec": {
   "display_name": "Python 3",
   "language": "python",
   "name": "python3"
  },
  "language_info": {
   "codemirror_mode": {
    "name": "ipython",
    "version": 3
   },
   "file_extension": ".py",
   "mimetype": "text/x-python",
   "name": "python",
   "nbconvert_exporter": "python",
   "pygments_lexer": "ipython3",
   "version": "3.10.11"
  }
 },
 "nbformat": 4,
 "nbformat_minor": 2
}
