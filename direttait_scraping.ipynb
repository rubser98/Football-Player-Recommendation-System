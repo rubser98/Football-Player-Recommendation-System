{
 "cells": [
  {
   "cell_type": "code",
   "execution_count": 7,
   "metadata": {},
   "outputs": [],
   "source": [
    "from selenium import webdriver\n",
    "from selenium.webdriver.common.by import By\n",
    "from selenium.webdriver.support.ui import WebDriverWait\n",
    "from selenium.webdriver.support import expected_conditions as EC\n",
    "from selenium.common.exceptions import ElementClickInterceptedException\n",
    "from selenium.webdriver.common.action_chains import ActionChains\n",
    "from selenium.common.exceptions import StaleElementReferenceException, NoSuchElementException\n",
    "import time\n",
    "from utils import writeJson\n",
    "import os"
   ]
  },
  {
   "cell_type": "code",
   "execution_count": 11,
   "metadata": {},
   "outputs": [],
   "source": [
    "def refuseCookies(driver):\n",
    "    try: \n",
    "        cookies = driver.find_element(By.ID, \"onetrust-reject-all-handler\")\n",
    "        cookies.click()       \n",
    "    except:\n",
    "        pass\n",
    "\n",
    "def showMore(driver):\n",
    "    show_more_matches = True\n",
    "    refuseCookies(driver)\n",
    "    while show_more_matches:\n",
    "        try:\n",
    "            button = driver.find_elements(By.CLASS_NAME, \"event__more\" )\n",
    "            if len(button) == 1:\n",
    "                button = button[0]\n",
    "            else:\n",
    "                print(len(button))\n",
    "                button = None\n",
    "            if button == None:\n",
    "                show_more_matches = False\n",
    "            else:\n",
    "                #print(button.get_attribute('href'), button.text)\n",
    "                actions = ActionChains(driver)\n",
    "                actions.move_to_element(button).perform()\n",
    "                time.sleep(1)\n",
    "                #driver.execute_script(\"arguments[0].scrollIntoView(true);\", button)\n",
    "                actions.click(button).perform()\n",
    "        \n",
    "        except StaleElementReferenceException:\n",
    "            show_more_matches = False\n",
    "\n",
    "        except NoSuchElementException:\n",
    "            show_more_matches = False\n",
    "\n",
    "def getComments(url_commento: str): \n",
    "    driver_match = webdriver.Chrome()\n",
    "    driver_match.get(url_commento)\n",
    "    refuseCookies(driver_match)\n",
    "    teams = [x.text for x in driver_match.find_elements(By.CLASS_NAME, 'participant__participantName')]\n",
    "    tags = driver_match.find_elements(By.TAG_NAME, 'a')\n",
    "    day = [x.text for x in tags if 'GIORNATA' in x.text]\n",
    "    if(len(day) > 0):\n",
    "        day = day[0].split(' ')[-1]\n",
    "    else:\n",
    "        day = 'xx'\n",
    "        \n",
    "    if len(teams) == 4:\n",
    "        home, away = teams[0], teams[2]\n",
    "    else:\n",
    "        home, away = teams[0], teams[1]\n",
    "    comments_button = [x for x in driver_match.find_elements(By.CLASS_NAME, '_tab_i2rza_4') if x.text == 'COMMENTO'][0]\n",
    "    comments_button.click()\n",
    "    time.sleep(1)\n",
    "    comments = [x.text for x in driver_match.find_elements(By.CLASS_NAME, '_general_1vhh5_4')]\n",
    "    driver_match.quit()\n",
    "    return day, home, away, comments\n",
    "\n",
    "        "
   ]
  },
  {
   "cell_type": "code",
   "execution_count": 5,
   "metadata": {},
   "outputs": [],
   "source": [
    "def mainExtractionComments(url: str, out_path: str):\n",
    "    driver = webdriver.Chrome()\n",
    "    driver.get(url)\n",
    "    showMore(driver)\n",
    "    matches = driver.find_elements(By.CLASS_NAME, 'eventRowLink')\n",
    "    matches_urls = [x.get_property('href') for x in matches]\n",
    "    driver.quit()\n",
    "    for match in matches_urls:\n",
    "        day, home, away, comment_def =getComments(match)\n",
    "        file_out = os.path.join(out_path, f'{day}_{home}_{away}.json')\n",
    "        writeJson(comment_def, file_out)"
   ]
  },
  {
   "cell_type": "code",
   "execution_count": 12,
   "metadata": {},
   "outputs": [
    {
     "name": "stdout",
     "output_type": "stream",
     "text": [
      "start Serie A 2022-2023\n"
     ]
    }
   ],
   "source": [
    "seasons = ['2023-2024', '2022-2023', '2021-2022', '2020-2021', '2019-2020']\n",
    "leagues = {'italia': ['Serie A'],'inghilterra': ['Premier League'], 'germania': ['Bundesliga'], 'francia': ['Ligue 1'], 'spagna': ['LaLiga'], 'portogallo': ['Liga Portugal'], 'europa':['Champions League', 'Europa League'],'olanda': ['Eredivisie']}\n",
    "dataset_path = \"Dataset//Direttait//\"\n",
    "for s in seasons:\n",
    "    for nat, league in leagues.items():\n",
    "        for l in league:\n",
    "            if(nat != 'italy' and s != '2023-2024'):\n",
    "                l_url = l.replace(' ', '-').lower()\n",
    "                url = f'https://www.diretta.it/calcio/{nat}/{l_url}-{s}/risultati/'\n",
    "                print(f'start {l} {s}')\n",
    "                league_path = os.path.join(dataset_path, l)\n",
    "                if not os.path.exists(league_path):\n",
    "                    os.makedirs(league_path)\n",
    "                season_league_path = os.path.join(league_path, s)\n",
    "                if not os.path.exists(season_league_path):\n",
    "                    os.makedirs(season_league_path)\n",
    "                mainExtractionComments(url, season_league_path)\n",
    "                print(f'end {l} {s}')\n",
    "            "
   ]
  },
  {
   "cell_type": "code",
   "execution_count": null,
   "metadata": {},
   "outputs": [],
   "source": []
  }
 ],
 "metadata": {
  "kernelspec": {
   "display_name": "Python 3",
   "language": "python",
   "name": "python3"
  },
  "language_info": {
   "codemirror_mode": {
    "name": "ipython",
    "version": 3
   },
   "file_extension": ".py",
   "mimetype": "text/x-python",
   "name": "python",
   "nbconvert_exporter": "python",
   "pygments_lexer": "ipython3",
   "version": "3.10.11"
  }
 },
 "nbformat": 4,
 "nbformat_minor": 2
}
