{
 "cells": [
  {
   "cell_type": "code",
   "execution_count": 1,
   "metadata": {},
   "outputs": [],
   "source": [
    "from selenium import webdriver\n",
    "from selenium.webdriver.common.by import By\n",
    "from selenium.webdriver.support.ui import WebDriverWait\n",
    "from selenium.webdriver.support import expected_conditions as EC\n",
    "from selenium.common.exceptions import ElementClickInterceptedException\n",
    "from selenium.webdriver.common.action_chains import ActionChains\n",
    "from selenium.common.exceptions import StaleElementReferenceException, NoSuchElementException\n",
    "import time\n",
    "from utils import writeJson\n",
    "import os\n",
    "from selenium.webdriver.chrome.options import Options\n",
    "from selenium.webdriver.common.keys import Keys\n",
    "import json"
   ]
  },
  {
   "cell_type": "code",
   "execution_count": 2,
   "metadata": {},
   "outputs": [],
   "source": [
    "def contieneTitolo(box):\n",
    "    try:\n",
    "        box.find_element(By.CLASS_NAME, 'content-box-headline')\n",
    "        return True\n",
    "    except:\n",
    "        return False\n",
    "\n",
    "def acceptCookie(driver):\n",
    "    try:\n",
    "        time.sleep(5)\n",
    "        iframe = driver.find_element(By.CSS_SELECTOR, \"#sp_message_iframe_953827\")\n",
    "        driver.switch_to.frame(iframe)\n",
    "        button = driver.find_element(By.CSS_SELECTOR, \"button\")\n",
    "        button.click()\n",
    "        time.sleep(5)\n",
    "    except:\n",
    "        print('No cookies to accept')\n",
    "\n",
    "def getTeamsURLS(driver, leagueUrl):\n",
    "    try:\n",
    "        driver.get(leagueUrl)\n",
    "        #acceptCookie(driver)\n",
    "        box_titolati = [x for x in driver.find_elements(By.CLASS_NAME, 'box') if contieneTitolo(x)]\n",
    "        box_squadre = box_titolati[1]\n",
    "        odds = box_squadre.find_elements(By.CLASS_NAME, 'odd')\n",
    "        evens = box_squadre.find_elements(By.CLASS_NAME, 'even')\n",
    "        team_urls = []\n",
    "        for team in odds:\n",
    "            team_urls.append(team.find_element(By.TAG_NAME, 'a').get_property('href'))\n",
    "        for team in evens:\n",
    "            team_urls.append(team.find_element(By.TAG_NAME, 'a').get_property('href'))\n",
    "        return team_urls\n",
    "    except Exception as e:\n",
    "        print(f'Squadre non trovate url {leagueUrl}, {e}')\n",
    "        return []\n",
    "\n",
    "def NumberPlayers(driver):\n",
    "    table = driver.find_element(By.CLASS_NAME,'items')\n",
    "    trs =table.find_element(By.TAG_NAME, 'tbody').find_elements(By.CLASS_NAME, 'odd')\n",
    "    trs = trs + table.find_element(By.TAG_NAME, 'tbody').find_elements(By.CLASS_NAME, 'even')\n",
    "    return len(trs)\n",
    "\n",
    "def getTeamName(driver):\n",
    "    return driver.find_element(By.XPATH, '//*[@id=\"tm-main\"]/header/div[1]/h1').text\n",
    "\n",
    "def getPlayersInfo(table, i, team_name):\n",
    "    numero_maglia = table.find_element(By.XPATH,f'//*[@id=\"yw1\"]/table/tbody/tr[{i}]/td[1]').text\n",
    "    player, role = table.find_element(By.XPATH,f'//*[@id=\"yw1\"]/table/tbody/tr[{i}]/td[2]').text.split('\\n')\n",
    "    id = table.find_element(By.XPATH,f'//*[@id=\"yw1\"]/table/tbody/tr[{i}]/td[2]/table/tbody/tr[1]/td[2]/a').get_property('href').split('/')[-1]\n",
    "    data_nasc = table.find_element(By.XPATH,f'//*[@id=\"yw1\"]/table/tbody/tr[{i}]/td[3]').text.split()[0]\n",
    "    nat  = table.find_element(By.XPATH,f'//*[@id=\"yw1\"]/table/tbody/tr[{i}]/td[4]/img[1]').get_property('title')\n",
    "    #team = table.find_element(By.XPATH, f'//*[@id=\"yw1\"]/table/tbody/tr[{i}]/td[5]/a').get_property('title')\n",
    "    \n",
    "    try:\n",
    "        vdm = table.find_element(By.XPATH, f'//*[@id=\"yw1\"]/table/tbody/tr[{i}]/td[6]/a').text\n",
    "    except:\n",
    "        vdm = 'nd'\n",
    "    return dict(shirt_number=numero_maglia,id=id,name=player, role=role,birth_date = data_nasc, nationality= nat, market_value= vdm, team = team_name)\n",
    "\n",
    "\n",
    "def listaTrasferimenti(box, is_acquisto: bool, list_transfers: list, team_name: str) -> None:\n",
    "    try:\n",
    "        trs= box.find_elements(By.TAG_NAME, 'tr')\n",
    "        for  i in range(1, len(trs)):\n",
    "            tds = trs[i].find_elements(By.TAG_NAME, 'td')\n",
    "            player = tds[0].find_element(By.TAG_NAME, 'a')\n",
    "            player_name = player.text\n",
    "            id = player.get_property('href').split('/')[-1]\n",
    "            nat =tds[2].find_element(By.TAG_NAME,'img').get_property('title')\n",
    "\n",
    "            try:\n",
    "                second_team = tds[6].find_element(By.TAG_NAME, 'a').get_property('title')\n",
    "            except:\n",
    "                second_team = 'ND'\n",
    "            cost = tds[8].text\n",
    "            team_buyer = team_name if is_acquisto else second_team\n",
    "            team_vendor = second_team if is_acquisto else team_name\n",
    "            transf = dict(player_name=player_name,player_id=id,nationality= nat, team_buyer = team_buyer, team_seller =team_vendor,cost= cost)\n",
    "            list_transfers.append(transf)\n",
    "    except NoSuchElementException:\n",
    "        print(f'{team_name} nessuna operazione, is_acquisto {is_acquisto}')\n",
    "        \n",
    "def initializeDriver():\n",
    "    driver = webdriver.Chrome()\n",
    "    driver.get('https://www.transfermarkt.it/')\n",
    "    acceptCookie(driver)\n",
    "    return driver"
   ]
  },
  {
   "cell_type": "code",
   "execution_count": null,
   "metadata": {},
   "outputs": [],
   "source": [
    "def mainRose(competitions, seasons):\n",
    "    driver = webdriver.Chrome()\n",
    "    driver.get('https://www.transfermarkt.it/')\n",
    "    acceptCookie(driver)\n",
    "\n",
    "    for league, url in competitions.items():\n",
    "        for s in seasons:\n",
    "            if league == 'laliga' and s == '2023':\n",
    "                try:\n",
    "                    print(f'Inizio {league}, url: {url+s}')\n",
    "                    teams = getTeamsURLS(driver, url+s)\n",
    "                    players = []\n",
    "                    #driver.quit()\n",
    "                    for team in teams:\n",
    "                        #print(team)\n",
    "                        driver.get(team)\n",
    "                        team_name = getTeamName(driver)\n",
    "                        n = NumberPlayers(driver)\n",
    "                        #print(n)\n",
    "                        for i in range(1, n+1):\n",
    "                            players.append(getPlayersInfo(driver, i, team_name))\n",
    "                    dataset_path = 'Dataset\\Transfermarkt'\n",
    "                    writeJson(players, os.path.join(dataset_path, f'{league}_{s}.json'))\n",
    "                    print(f'Fine {league} {s}')\n",
    "                except Exception as e:\n",
    "                    print(e)\n",
    "                #driver.quit()\n",
    "\n",
    "    driver.quit()"
   ]
  },
  {
   "cell_type": "code",
   "execution_count": 3,
   "metadata": {},
   "outputs": [
    {
     "name": "stdout",
     "output_type": "stream",
     "text": [
      "https://www.transfermarkt.it/eredivisie/transfers/wettbewerb/NL1/plus/?saison_id=2019&s_w=&leihe=3&intern=0\n",
      "https://www.transfermarkt.it/eredivisie/transfers/wettbewerb/NL1/plus/?saison_id=2020&s_w=&leihe=3&intern=0\n",
      "https://www.transfermarkt.it/eredivisie/transfers/wettbewerb/NL1/plus/?saison_id=2021&s_w=&leihe=3&intern=0\n",
      "https://www.transfermarkt.it/eredivisie/transfers/wettbewerb/NL1/plus/?saison_id=2022&s_w=&leihe=3&intern=0\n",
      "https://www.transfermarkt.it/eredivisie/transfers/wettbewerb/NL1/plus/?saison_id=2023&s_w=&leihe=3&intern=0\n"
     ]
    },
    {
     "ename": "",
     "evalue": "",
     "output_type": "error",
     "traceback": [
      "\u001b[1;31mThe Kernel crashed while executing code in the current cell or a previous cell. \n",
      "\u001b[1;31mPlease review the code in the cell(s) to identify a possible cause of the failure. \n",
      "\u001b[1;31mClick <a href='https://aka.ms/vscodeJupyterKernelCrash'>here</a> for more info. \n",
      "\u001b[1;31mView Jupyter <a href='command:jupyter.viewOutput'>log</a> for further details."
     ]
    }
   ],
   "source": [
    "out_path = 'Dataset\\Transfermarkt\\Transfers'\n",
    "file_path = 'Dataset//Transfermarkt//transfers_urls.json'\n",
    "driver = initializeDriver()\n",
    "with open(file_path, 'r') as file:\n",
    "    competitions = json.load(file)\n",
    "season = ['2019','2020','2021','2022','2023']\n",
    "#season = ['2023']\n",
    "for league, url in competitions.items():\n",
    "    if league in ['eredivisie']:\n",
    "        for s in season:\n",
    "            url_n = url + f'/plus/?saison_id={s}&s_w=&leihe=3&intern=0'\n",
    "            print(url_n) \n",
    "            driver.get(url_n)\n",
    "            boxes = driver.find_elements(By.CLASS_NAME, 'box')[3:-1]\n",
    "            list_transfers = []\n",
    "            for x in boxes:\n",
    "                team_name = x.find_element(By.CLASS_NAME, 'content-box-headline').text\n",
    "                transfers = x.find_elements(By.CLASS_NAME, 'responsive-table')\n",
    "                acquisti = transfers[0]\n",
    "                cessioni = transfers[1]\n",
    "                listaTrasferimenti(acquisti, True, list_transfers, team_name)\n",
    "                listaTrasferimenti(cessioni,False, list_transfers, team_name)\n",
    "            writeJson(list_transfers, os.path.join(out_path, f'{league}_{s}.json'))\n",
    "driver.quit()"
   ]
  },
  {
   "cell_type": "code",
   "execution_count": 7,
   "metadata": {},
   "outputs": [
    {
     "ename": "NoSuchElementException",
     "evalue": "Message: no such element: Unable to locate element: {\"method\":\"tag name\",\"selector\":\"a\"}\n  (Session info: chrome=126.0.6478.127); For documentation on this error, please visit: https://www.selenium.dev/documentation/webdriver/troubleshooting/errors#no-such-element-exception\nStacktrace:\n\tGetHandleVerifier [0x00007FF7A98DEEA2+31554]\n\t(No symbol) [0x00007FF7A9857ED9]\n\t(No symbol) [0x00007FF7A971872A]\n\t(No symbol) [0x00007FF7A9768434]\n\t(No symbol) [0x00007FF7A976853C]\n\t(No symbol) [0x00007FF7A975BBAC]\n\t(No symbol) [0x00007FF7A978D06F]\n\t(No symbol) [0x00007FF7A975BA76]\n\t(No symbol) [0x00007FF7A978D240]\n\t(No symbol) [0x00007FF7A97AC977]\n\t(No symbol) [0x00007FF7A978CDD3]\n\t(No symbol) [0x00007FF7A975A33B]\n\t(No symbol) [0x00007FF7A975AED1]\n\tGetHandleVerifier [0x00007FF7A9BE8B1D+3217341]\n\tGetHandleVerifier [0x00007FF7A9C35AE3+3532675]\n\tGetHandleVerifier [0x00007FF7A9C2B0E0+3489152]\n\tGetHandleVerifier [0x00007FF7A998E776+750614]\n\t(No symbol) [0x00007FF7A986375F]\n\t(No symbol) [0x00007FF7A985EB14]\n\t(No symbol) [0x00007FF7A985ECA2]\n\t(No symbol) [0x00007FF7A984E16F]\n\tBaseThreadInitThunk [0x00007FF93616257D+29]\n\tRtlUserThreadStart [0x00007FF9377EAF28+40]\n",
     "output_type": "error",
     "traceback": [
      "\u001b[1;31m---------------------------------------------------------------------------\u001b[0m",
      "\u001b[1;31mNoSuchElementException\u001b[0m                    Traceback (most recent call last)",
      "Cell \u001b[1;32mIn[7], line 4\u001b[0m\n\u001b[0;32m      1\u001b[0m trs\u001b[38;5;241m=\u001b[39m acquisti\u001b[38;5;241m.\u001b[39mfind_elements(By\u001b[38;5;241m.\u001b[39mTAG_NAME, \u001b[38;5;124m'\u001b[39m\u001b[38;5;124mtr\u001b[39m\u001b[38;5;124m'\u001b[39m)\n\u001b[0;32m      3\u001b[0m tds \u001b[38;5;241m=\u001b[39m trs[\u001b[38;5;241m1\u001b[39m]\u001b[38;5;241m.\u001b[39mfind_elements(By\u001b[38;5;241m.\u001b[39mTAG_NAME, \u001b[38;5;124m'\u001b[39m\u001b[38;5;124mtd\u001b[39m\u001b[38;5;124m'\u001b[39m)\n\u001b[1;32m----> 4\u001b[0m player \u001b[38;5;241m=\u001b[39m \u001b[43mtds\u001b[49m\u001b[43m[\u001b[49m\u001b[38;5;241;43m0\u001b[39;49m\u001b[43m]\u001b[49m\u001b[38;5;241;43m.\u001b[39;49m\u001b[43mfind_element\u001b[49m\u001b[43m(\u001b[49m\u001b[43mBy\u001b[49m\u001b[38;5;241;43m.\u001b[39;49m\u001b[43mTAG_NAME\u001b[49m\u001b[43m,\u001b[49m\u001b[43m \u001b[49m\u001b[38;5;124;43m'\u001b[39;49m\u001b[38;5;124;43ma\u001b[39;49m\u001b[38;5;124;43m'\u001b[39;49m\u001b[43m)\u001b[49m\n\u001b[0;32m      5\u001b[0m player_name \u001b[38;5;241m=\u001b[39m player\u001b[38;5;241m.\u001b[39mtext\n\u001b[0;32m      6\u001b[0m \u001b[38;5;28mid\u001b[39m \u001b[38;5;241m=\u001b[39m player\u001b[38;5;241m.\u001b[39mget_property(\u001b[38;5;124m'\u001b[39m\u001b[38;5;124mhref\u001b[39m\u001b[38;5;124m'\u001b[39m)\u001b[38;5;241m.\u001b[39msplit(\u001b[38;5;124m'\u001b[39m\u001b[38;5;124m/\u001b[39m\u001b[38;5;124m'\u001b[39m)[\u001b[38;5;241m-\u001b[39m\u001b[38;5;241m1\u001b[39m]\n",
      "File \u001b[1;32m~\\AppData\\Local\\Packages\\PythonSoftwareFoundation.Python.3.10_qbz5n2kfra8p0\\LocalCache\\local-packages\\Python310\\site-packages\\selenium\\webdriver\\remote\\webelement.py:417\u001b[0m, in \u001b[0;36mWebElement.find_element\u001b[1;34m(self, by, value)\u001b[0m\n\u001b[0;32m    414\u001b[0m     by \u001b[38;5;241m=\u001b[39m By\u001b[38;5;241m.\u001b[39mCSS_SELECTOR\n\u001b[0;32m    415\u001b[0m     value \u001b[38;5;241m=\u001b[39m \u001b[38;5;124mf\u001b[39m\u001b[38;5;124m'\u001b[39m\u001b[38;5;124m[name=\u001b[39m\u001b[38;5;124m\"\u001b[39m\u001b[38;5;132;01m{\u001b[39;00mvalue\u001b[38;5;132;01m}\u001b[39;00m\u001b[38;5;124m\"\u001b[39m\u001b[38;5;124m]\u001b[39m\u001b[38;5;124m'\u001b[39m\n\u001b[1;32m--> 417\u001b[0m \u001b[38;5;28;01mreturn\u001b[39;00m \u001b[38;5;28;43mself\u001b[39;49m\u001b[38;5;241;43m.\u001b[39;49m\u001b[43m_execute\u001b[49m\u001b[43m(\u001b[49m\u001b[43mCommand\u001b[49m\u001b[38;5;241;43m.\u001b[39;49m\u001b[43mFIND_CHILD_ELEMENT\u001b[49m\u001b[43m,\u001b[49m\u001b[43m \u001b[49m\u001b[43m{\u001b[49m\u001b[38;5;124;43m\"\u001b[39;49m\u001b[38;5;124;43musing\u001b[39;49m\u001b[38;5;124;43m\"\u001b[39;49m\u001b[43m:\u001b[49m\u001b[43m \u001b[49m\u001b[43mby\u001b[49m\u001b[43m,\u001b[49m\u001b[43m \u001b[49m\u001b[38;5;124;43m\"\u001b[39;49m\u001b[38;5;124;43mvalue\u001b[39;49m\u001b[38;5;124;43m\"\u001b[39;49m\u001b[43m:\u001b[49m\u001b[43m \u001b[49m\u001b[43mvalue\u001b[49m\u001b[43m}\u001b[49m\u001b[43m)\u001b[49m[\u001b[38;5;124m\"\u001b[39m\u001b[38;5;124mvalue\u001b[39m\u001b[38;5;124m\"\u001b[39m]\n",
      "File \u001b[1;32m~\\AppData\\Local\\Packages\\PythonSoftwareFoundation.Python.3.10_qbz5n2kfra8p0\\LocalCache\\local-packages\\Python310\\site-packages\\selenium\\webdriver\\remote\\webelement.py:395\u001b[0m, in \u001b[0;36mWebElement._execute\u001b[1;34m(self, command, params)\u001b[0m\n\u001b[0;32m    393\u001b[0m     params \u001b[38;5;241m=\u001b[39m {}\n\u001b[0;32m    394\u001b[0m params[\u001b[38;5;124m\"\u001b[39m\u001b[38;5;124mid\u001b[39m\u001b[38;5;124m\"\u001b[39m] \u001b[38;5;241m=\u001b[39m \u001b[38;5;28mself\u001b[39m\u001b[38;5;241m.\u001b[39m_id\n\u001b[1;32m--> 395\u001b[0m \u001b[38;5;28;01mreturn\u001b[39;00m \u001b[38;5;28;43mself\u001b[39;49m\u001b[38;5;241;43m.\u001b[39;49m\u001b[43m_parent\u001b[49m\u001b[38;5;241;43m.\u001b[39;49m\u001b[43mexecute\u001b[49m\u001b[43m(\u001b[49m\u001b[43mcommand\u001b[49m\u001b[43m,\u001b[49m\u001b[43m \u001b[49m\u001b[43mparams\u001b[49m\u001b[43m)\u001b[49m\n",
      "File \u001b[1;32m~\\AppData\\Local\\Packages\\PythonSoftwareFoundation.Python.3.10_qbz5n2kfra8p0\\LocalCache\\local-packages\\Python310\\site-packages\\selenium\\webdriver\\remote\\webdriver.py:354\u001b[0m, in \u001b[0;36mWebDriver.execute\u001b[1;34m(self, driver_command, params)\u001b[0m\n\u001b[0;32m    352\u001b[0m response \u001b[38;5;241m=\u001b[39m \u001b[38;5;28mself\u001b[39m\u001b[38;5;241m.\u001b[39mcommand_executor\u001b[38;5;241m.\u001b[39mexecute(driver_command, params)\n\u001b[0;32m    353\u001b[0m \u001b[38;5;28;01mif\u001b[39;00m response:\n\u001b[1;32m--> 354\u001b[0m     \u001b[38;5;28;43mself\u001b[39;49m\u001b[38;5;241;43m.\u001b[39;49m\u001b[43merror_handler\u001b[49m\u001b[38;5;241;43m.\u001b[39;49m\u001b[43mcheck_response\u001b[49m\u001b[43m(\u001b[49m\u001b[43mresponse\u001b[49m\u001b[43m)\u001b[49m\n\u001b[0;32m    355\u001b[0m     response[\u001b[38;5;124m\"\u001b[39m\u001b[38;5;124mvalue\u001b[39m\u001b[38;5;124m\"\u001b[39m] \u001b[38;5;241m=\u001b[39m \u001b[38;5;28mself\u001b[39m\u001b[38;5;241m.\u001b[39m_unwrap_value(response\u001b[38;5;241m.\u001b[39mget(\u001b[38;5;124m\"\u001b[39m\u001b[38;5;124mvalue\u001b[39m\u001b[38;5;124m\"\u001b[39m, \u001b[38;5;28;01mNone\u001b[39;00m))\n\u001b[0;32m    356\u001b[0m     \u001b[38;5;28;01mreturn\u001b[39;00m response\n",
      "File \u001b[1;32m~\\AppData\\Local\\Packages\\PythonSoftwareFoundation.Python.3.10_qbz5n2kfra8p0\\LocalCache\\local-packages\\Python310\\site-packages\\selenium\\webdriver\\remote\\errorhandler.py:229\u001b[0m, in \u001b[0;36mErrorHandler.check_response\u001b[1;34m(self, response)\u001b[0m\n\u001b[0;32m    227\u001b[0m         alert_text \u001b[38;5;241m=\u001b[39m value[\u001b[38;5;124m\"\u001b[39m\u001b[38;5;124malert\u001b[39m\u001b[38;5;124m\"\u001b[39m]\u001b[38;5;241m.\u001b[39mget(\u001b[38;5;124m\"\u001b[39m\u001b[38;5;124mtext\u001b[39m\u001b[38;5;124m\"\u001b[39m)\n\u001b[0;32m    228\u001b[0m     \u001b[38;5;28;01mraise\u001b[39;00m exception_class(message, screen, stacktrace, alert_text)  \u001b[38;5;66;03m# type: ignore[call-arg]  # mypy is not smart enough here\u001b[39;00m\n\u001b[1;32m--> 229\u001b[0m \u001b[38;5;28;01mraise\u001b[39;00m exception_class(message, screen, stacktrace)\n",
      "\u001b[1;31mNoSuchElementException\u001b[0m: Message: no such element: Unable to locate element: {\"method\":\"tag name\",\"selector\":\"a\"}\n  (Session info: chrome=126.0.6478.127); For documentation on this error, please visit: https://www.selenium.dev/documentation/webdriver/troubleshooting/errors#no-such-element-exception\nStacktrace:\n\tGetHandleVerifier [0x00007FF7A98DEEA2+31554]\n\t(No symbol) [0x00007FF7A9857ED9]\n\t(No symbol) [0x00007FF7A971872A]\n\t(No symbol) [0x00007FF7A9768434]\n\t(No symbol) [0x00007FF7A976853C]\n\t(No symbol) [0x00007FF7A975BBAC]\n\t(No symbol) [0x00007FF7A978D06F]\n\t(No symbol) [0x00007FF7A975BA76]\n\t(No symbol) [0x00007FF7A978D240]\n\t(No symbol) [0x00007FF7A97AC977]\n\t(No symbol) [0x00007FF7A978CDD3]\n\t(No symbol) [0x00007FF7A975A33B]\n\t(No symbol) [0x00007FF7A975AED1]\n\tGetHandleVerifier [0x00007FF7A9BE8B1D+3217341]\n\tGetHandleVerifier [0x00007FF7A9C35AE3+3532675]\n\tGetHandleVerifier [0x00007FF7A9C2B0E0+3489152]\n\tGetHandleVerifier [0x00007FF7A998E776+750614]\n\t(No symbol) [0x00007FF7A986375F]\n\t(No symbol) [0x00007FF7A985EB14]\n\t(No symbol) [0x00007FF7A985ECA2]\n\t(No symbol) [0x00007FF7A984E16F]\n\tBaseThreadInitThunk [0x00007FF93616257D+29]\n\tRtlUserThreadStart [0x00007FF9377EAF28+40]\n"
     ]
    }
   ],
   "source": [
    "trs= acquisti.find_elements(By.TAG_NAME, 'tr')\n",
    "\n",
    "tds = trs[1].find_elements(By.TAG_NAME, 'td')\n",
    "player = tds[0].find_element(By.TAG_NAME, 'a')\n",
    "player_name = player.text\n",
    "id = player.get_property('href').split('/')[-1]\n",
    "nat =tds[2].find_element(By.TAG_NAME,'img').get_property('title')\n",
    "\n",
    "second_team = tds[6].find_element(By.TAG_NAME, 'a').get_property('title')\n",
    "cost = tds[8].text\n",
    "\n",
    "player_name, id, nat, second_team, cost"
   ]
  },
  {
   "cell_type": "code",
   "execution_count": 10,
   "metadata": {},
   "outputs": [
    {
     "data": {
      "text/plain": [
       "'Nessuno acquisto'"
      ]
     },
     "execution_count": 10,
     "metadata": {},
     "output_type": "execute_result"
    }
   ],
   "source": [
    "tds[0].text"
   ]
  },
  {
   "cell_type": "code",
   "execution_count": null,
   "metadata": {},
   "outputs": [],
   "source": []
  }
 ],
 "metadata": {
  "kernelspec": {
   "display_name": "Python 3",
   "language": "python",
   "name": "python3"
  },
  "language_info": {
   "codemirror_mode": {
    "name": "ipython",
    "version": 3
   },
   "file_extension": ".py",
   "mimetype": "text/x-python",
   "name": "python",
   "nbconvert_exporter": "python",
   "pygments_lexer": "ipython3",
   "version": "3.10.11"
  }
 },
 "nbformat": 4,
 "nbformat_minor": 2
}
