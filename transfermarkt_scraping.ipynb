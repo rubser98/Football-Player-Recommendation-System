{
 "cells": [
  {
   "cell_type": "code",
   "execution_count": 2,
   "metadata": {},
   "outputs": [],
   "source": [
    "import requests\n",
    "import re\n",
    "from bs4 import BeautifulSoup"
   ]
  },
  {
   "cell_type": "code",
   "execution_count": 3,
   "metadata": {},
   "outputs": [],
   "source": [
    "url = \"https://www.transfermarkt.it/erling-haaland/profil/spieler/418560\"\n",
    "player_id = url.split('/')[-1]"
   ]
  },
  {
   "cell_type": "code",
   "execution_count": 4,
   "metadata": {},
   "outputs": [],
   "source": [
    "headers = {\n",
    "    'accept': '*/*',\n",
    "    'accept-language': 'it-IT,it;q=0.9,en-US;q=0.8,en;q=0.7',\n",
    "    'cache-control': 'max-age=0',\n",
    "    'priority': 'u=1, i',\n",
    "    'referer': 'https://www.sofascore.com/it/torneo/calcio/europe/uefa-champions-league/7',\n",
    "    'sec-ch-ua': '\"Google Chrome\";v=\"125\", \"Chromium\";v=\"125\", \"Not.A/Brand\";v=\"24\"',\n",
    "    'sec-ch-ua-mobile': '?0',\n",
    "    'sec-ch-ua-platform': '\"Windows\"',\n",
    "    'sec-fetch-dest': 'empty',\n",
    "    'sec-fetch-mode': 'cors',\n",
    "    'sec-fetch-site': 'same-origin',\n",
    "    'user-agent': 'Mozilla/5.0 (Windows NT 10.0; Win64; x64) AppleWebKit/537.36 (KHTML, like Gecko) Chrome/125.0.0.0 Safari/537.36',\n",
    "    'x-requested-with': '3447eb',\n",
    "}"
   ]
  },
  {
   "cell_type": "code",
   "execution_count": 5,
   "metadata": {},
   "outputs": [
    {
     "data": {
      "text/plain": [
       "200"
      ]
     },
     "execution_count": 5,
     "metadata": {},
     "output_type": "execute_result"
    }
   ],
   "source": [
    "response = requests.get(url, headers=headers)\n",
    "response.status_code"
   ]
  },
  {
   "cell_type": "code",
   "execution_count": 7,
   "metadata": {},
   "outputs": [],
   "source": [
    "soup = BeautifulSoup(response.content, 'html.parser')"
   ]
  },
  {
   "cell_type": "code",
   "execution_count": 8,
   "metadata": {},
   "outputs": [],
   "source": [
    "player_name = soup.select_one('h1[class=\"data-header__headline-wrapper\"]').text.split('\\n')[-1].strip()\n",
    "player_number = soup.select_one('span[class=\"data-header__shirt-number\"]').text.strip().replace('#', '')"
   ]
  },
  {
   "cell_type": "code",
   "execution_count": 9,
   "metadata": {},
   "outputs": [
    {
     "data": {
      "text/plain": [
       "'Erling Haaland'"
      ]
     },
     "execution_count": 9,
     "metadata": {},
     "output_type": "execute_result"
    }
   ],
   "source": [
    "player_name"
   ]
  },
  {
   "cell_type": "code",
   "execution_count": 10,
   "metadata": {},
   "outputs": [],
   "source": [
    "\n",
    "# Let's use regex to find the player's contract expiry date\n",
    "player_contract_expiry = re.search(\"Contract expires: (.*)\", soup.text).group(1)\n",
    "\n",
    "# Now let's add some more complex regex patterns to find the player's birthplace\n",
    "player_birthplace = re.search(\"Place of birth:.*?([A-z].*?) \", soup.text, re.DOTALL).group(1).strip()\n",
    "\n",
    "# We can reuse both of those ideas to find other player information but just replacing the name\n",
    "\n",
    "# We might have to switch a couple of things though in the regex pattern like accounting for two words\n",
    "player_agent = re.search(\"Agent:.*?([A-z].*?)\\n\", soup.text, re.DOTALL).group(1).strip()\n",
    "\n",
    "# We can also use regex to find the player's height which has numbers a comma and letters\n",
    "player_height = re.search(\"Height:.*?([0-9].*?)\\n\", soup.text, re.DOTALL).group(1).strip()"
   ]
  },
  {
   "cell_type": "code",
   "execution_count": 12,
   "metadata": {},
   "outputs": [
    {
     "name": "stdout",
     "output_type": "stream",
     "text": [
      "{'list': [{'x': 1482015600000, 'y': 200000, 'mw': '€200k', 'datum_mw': 'Dec 18, 2016', 'verein': 'Bryne FK', 'age': '16', 'wappen': 'https://tmssl.akamaized.net/images/wappen/profil/1057.png?lm=1480871779'}, {'x': 1513983600000, 'y': 300000, 'mw': '€300k', 'datum_mw': 'Dec 23, 2017', 'verein': 'Molde FK', 'age': '17', 'wappen': 'https://tmssl.akamaized.net/images/wappen/profil/687.png?lm=1409159512'}, {'x': 1536530400000, 'y': 2000000, 'mw': '€2.00m', 'datum_mw': 'Sep 10, 2018', 'verein': 'Molde FK', 'age': '18', 'wappen': ''}, {'x': 1546124400000, 'y': 5000000, 'mw': '€5.00m', 'datum_mw': 'Dec 30, 2018', 'verein': 'Molde FK', 'age': '18', 'wappen': ''}, {'x': 1559512800000, 'y': 5000000, 'mw': '€5.00m', 'datum_mw': 'Jun 3, 2019', 'verein': 'Red Bull Salzburg', 'age': '18', 'wappen': 'https://tmssl.akamaized.net/images/wappen/profil/409_1557781653.png?lm=1557781653'}, {'x': 1567461600000, 'y': 12000000, 'mw': '€12.00m', 'datum_mw': 'Sep 3, 2019', 'verein': 'Red Bull Salzburg', 'age': '19', 'wappen': ''}, {'x': 1573081200000, 'y': 30000000, 'mw': '€30.00m', 'datum_mw': 'Nov 7, 2019', 'verein': 'Red Bull Salzburg', 'age': '19', 'wappen': ''}, {'x': 1576450800000, 'y': 45000000, 'mw': '€45.00m', 'datum_mw': 'Dec 16, 2019', 'verein': 'Red Bull Salzburg', 'age': '19', 'wappen': ''}, {'x': 1581375600000, 'y': 60000000, 'mw': '€60.00m', 'datum_mw': 'Feb 11, 2020', 'verein': 'Borussia Dortmund', 'age': '19', 'wappen': 'https://tmssl.akamaized.net/images/wappen/profil/16.png?lm=1396275280'}, {'x': 1583881200000, 'y': 80000000, 'mw': '€80.00m', 'datum_mw': 'Mar 11, 2020', 'verein': 'Borussia Dortmund', 'age': '19', 'wappen': ''}, {'x': 1586296800000, 'y': 72000000, 'mw': '€72.00m', 'datum_mw': 'Apr 8, 2020', 'verein': 'Borussia Dortmund', 'age': '19', 'wappen': ''}, {'x': 1600207200000, 'y': 80000000, 'mw': '€80.00m', 'datum_mw': 'Sep 16, 2020', 'verein': 'Borussia Dortmund', 'age': '20', 'wappen': ''}, {'x': 1606345200000, 'y': 100000000, 'mw': '€100.00m', 'datum_mw': 'Nov 26, 2020', 'verein': 'Borussia Dortmund', 'age': '20', 'wappen': ''}, {'x': 1612911600000, 'y': 110000000, 'mw': '€110.00m', 'datum_mw': 'Feb 10, 2021', 'verein': 'Borussia Dortmund', 'age': '20', 'wappen': ''}, {'x': 1623189600000, 'y': 130000000, 'mw': '€130.00m', 'datum_mw': 'Jun 9, 2021', 'verein': 'Borussia Dortmund', 'age': '20', 'wappen': ''}, {'x': 1633557600000, 'y': 150000000, 'mw': '€150.00m', 'datum_mw': 'Oct 7, 2021', 'verein': 'Borussia Dortmund', 'age': '21', 'wappen': ''}, {'x': 1640127600000, 'y': 150000000, 'mw': '€150.00m', 'datum_mw': 'Dec 22, 2021', 'verein': 'Borussia Dortmund', 'age': '21', 'wappen': ''}, {'x': 1654725600000, 'y': 150000000, 'mw': '€150.00m', 'datum_mw': 'Jun 9, 2022', 'verein': 'Borussia Dortmund', 'age': '21', 'wappen': ''}, {'x': 1667430000000, 'y': 170000000, 'mw': '€170.00m', 'datum_mw': 'Nov 3, 2022', 'verein': 'Manchester City', 'age': '22', 'wappen': 'https://tmssl.akamaized.net/images/wappen/profil/281.png?lm=1467356331'}, {'x': 1687212000000, 'y': 180000000, 'mw': '€180.00m', 'datum_mw': 'Jun 20, 2023', 'verein': 'Manchester City', 'age': '22', 'wappen': ''}, {'x': 1702940400000, 'y': 180000000, 'mw': '€180.00m', 'datum_mw': 'Dec 19, 2023', 'verein': 'Manchester City', 'age': '23', 'wappen': ''}, {'x': 1716760800000, 'y': 180000000, 'mw': '€180.00m', 'datum_mw': 'May 27, 2024', 'verein': 'Manchester City', 'age': '23', 'wappen': 'https://tmssl.akamaized.net/images/wappen/profil/281.png?lm=1467356331'}], 'current': '€180.00m', 'highest': '€180.00m', 'highest_date': 'Jun 20, 2023', 'last_change': 'May 27, 2024', 'details_url': '/erling-haaland/marktwertverlauf/spieler/418560', 'thread': {'url': '', 'thread_title': '', 'count_replies': ''}, 'translations': {'market value': 'Market value', 'team': 'Club', 'age': 'Age', 'resetZoom': 'Vollansicht', 'current': 'Current Market Value\\n\\n', 'highest': 'Highest market value', 'thread': 'View market value analysis', 'forum': 'Forum', 'details': 'Market value details', 'headline': 'Market value over time', 'lastChange': 'Last update'}}\n",
      "{'transfers': [{'url': '/erling-haaland/transfers/spieler/418560/transfer_id/3845482', 'from': {'isSpecial': False, 'href': '/borussia-dortmund/transfers/verein/16/saison_id/2022', 'clubEmblem-1x': 'https://tmssl.akamaized.net/images/wappen/tiny/16.png?lm=1396275280', 'clubEmblem-2x': 'https://tmssl.akamaized.net/images/wappen/smallquad/16.png?lm=1396275280', 'clubEmblemMobile': 'https://tmssl.akamaized.net/images/wappen/homepageWappen70x70/16.png?lm=1396275280', 'clubName': 'Bor. Dortmund', 'countryFlag': 'https://tmssl.akamaized.net/images/flagge/verysmall/40.png?lm=1520612525', 'latitude': '51.4980718', 'longitude': '7.4509452'}, 'to': {'isSpecial': False, 'href': '/manchester-city/transfers/verein/281/saison_id/2022', 'clubEmblem-1x': 'https://tmssl.akamaized.net/images/wappen/tiny/281.png?lm=1467356331', 'clubEmblem-2x': 'https://tmssl.akamaized.net/images/wappen/smallquad/281.png?lm=1467356331', 'clubEmblemMobile': 'https://tmssl.akamaized.net/images/wappen/homepageWappen70x70/281.png?lm=1467356331', 'clubName': 'Man City', 'countryFlag': 'https://tmssl.akamaized.net/images/flagge/verysmall/189.png?lm=1520611569', 'latitude': '53.4831381', 'longitude': '-2.2003953'}, 'futureTransfer': 0, 'date': 'Jul 1, 2022', 'dateUnformatted': '2022-07-01', 'upcoming': False, 'season': '22/23', 'marketValue': '€150.00m', 'fee': '€60.00m', 'showUpcomingHeader': False, 'showResetHeader': False}, {'url': '/erling-haaland/transfers/spieler/418560/transfer_id/2737490', 'from': {'isSpecial': False, 'href': '/red-bull-salzburg/transfers/verein/409/saison_id/2019', 'clubEmblem-1x': 'https://tmssl.akamaized.net/images/wappen/tiny/409.png?lm=1557737354', 'clubEmblem-2x': 'https://tmssl.akamaized.net/images/wappen/smallquad/409.png?lm=1557737354', 'clubEmblemMobile': 'https://tmssl.akamaized.net/images/wappen/homepageWappen70x70/409.png?lm=1557737354', 'clubName': 'RB Salzburg', 'countryFlag': 'https://tmssl.akamaized.net/images/flagge/verysmall/127.png?lm=1520611569', 'latitude': '47.8162823', 'longitude': '12.9982153'}, 'to': {'isSpecial': False, 'href': '/borussia-dortmund/transfers/verein/16/saison_id/2019', 'clubEmblem-1x': 'https://tmssl.akamaized.net/images/wappen/tiny/16.png?lm=1396275280', 'clubEmblem-2x': 'https://tmssl.akamaized.net/images/wappen/smallquad/16.png?lm=1396275280', 'clubEmblemMobile': 'https://tmssl.akamaized.net/images/wappen/homepageWappen70x70/16.png?lm=1396275280', 'clubName': 'Bor. Dortmund', 'countryFlag': 'https://tmssl.akamaized.net/images/flagge/verysmall/40.png?lm=1520612525', 'latitude': '51.4980718', 'longitude': '7.4509452'}, 'futureTransfer': 0, 'date': 'Jan 1, 2020', 'dateUnformatted': '2020-01-01', 'upcoming': False, 'season': '19/20', 'marketValue': '€45.00m', 'fee': '€20.00m', 'showUpcomingHeader': False, 'showResetHeader': False}, {'url': '/erling-haaland/transfers/spieler/418560/transfer_id/2230127', 'from': {'isSpecial': False, 'href': '/molde-fk/transfers/verein/687/saison_id/2018', 'clubEmblem-1x': 'https://tmssl.akamaized.net/images/wappen/tiny/687.png?lm=1409159512', 'clubEmblem-2x': 'https://tmssl.akamaized.net/images/wappen/smallquad/687.png?lm=1409159512', 'clubEmblemMobile': 'https://tmssl.akamaized.net/images/wappen/homepageWappen70x70/687.png?lm=1409159512', 'clubName': 'Molde FK', 'countryFlag': 'https://tmssl.akamaized.net/images/flagge/verysmall/125.png?lm=1520611569', 'latitude': '62.7333731', 'longitude': '7.1478971'}, 'to': {'isSpecial': False, 'href': '/red-bull-salzburg/transfers/verein/409/saison_id/2018', 'clubEmblem-1x': 'https://tmssl.akamaized.net/images/wappen/tiny/409_1557781653.png?lm=1557781653', 'clubEmblem-2x': 'https://tmssl.akamaized.net/images/wappen/smallquad/409_1557781653.png?lm=1557781653', 'clubEmblemMobile': 'https://tmssl.akamaized.net/images/wappen/homepageWappen70x70/409_1557781653.png?lm=1557781653', 'clubName': 'RB Salzburg', 'countryFlag': 'https://tmssl.akamaized.net/images/flagge/verysmall/127.png?lm=1520611569', 'latitude': '47.8162823', 'longitude': '12.9982153'}, 'futureTransfer': 0, 'date': 'Jan 1, 2019', 'dateUnformatted': '2019-01-01', 'upcoming': False, 'season': '18/19', 'marketValue': '€5.00m', 'fee': '€8.00m', 'showUpcomingHeader': False, 'showResetHeader': False}, {'url': '/erling-haaland/transfers/spieler/418560/transfer_id/1693478', 'from': {'isSpecial': False, 'href': '/bryne-fk/transfers/verein/1057/saison_id/2016', 'clubEmblem-1x': 'https://tmssl.akamaized.net/images/wappen/tiny/1057.png?lm=1480871779', 'clubEmblem-2x': 'https://tmssl.akamaized.net/images/wappen/smallquad/1057.png?lm=1480871779', 'clubEmblemMobile': 'https://tmssl.akamaized.net/images/wappen/homepageWappen70x70/1057.png?lm=1480871779', 'clubName': 'Bryne', 'countryFlag': 'https://tmssl.akamaized.net/images/flagge/verysmall/125.png?lm=1520611569', 'latitude': '58.7290798', 'longitude': '5.6491387'}, 'to': {'isSpecial': False, 'href': '/molde-fk/transfers/verein/687/saison_id/2016', 'clubEmblem-1x': 'https://tmssl.akamaized.net/images/wappen/tiny/687.png?lm=1409159512', 'clubEmblem-2x': 'https://tmssl.akamaized.net/images/wappen/smallquad/687.png?lm=1409159512', 'clubEmblemMobile': 'https://tmssl.akamaized.net/images/wappen/homepageWappen70x70/687.png?lm=1409159512', 'clubName': 'Molde FK', 'countryFlag': 'https://tmssl.akamaized.net/images/flagge/verysmall/125.png?lm=1520611569', 'latitude': '62.7333731', 'longitude': '7.1478971'}, 'futureTransfer': 0, 'date': 'Feb 1, 2017', 'dateUnformatted': '2017-02-01', 'upcoming': False, 'season': '16/17', 'marketValue': '€200k', 'fee': '€100k', 'showUpcomingHeader': False, 'showResetHeader': False}, {'url': '/erling-haaland/transfers/spieler/418560/transfer_id/1673438', 'from': {'isSpecial': False, 'href': '/bryne-fk-youth/transfers/verein/19368/saison_id/2015', 'clubEmblem-1x': 'https://tmssl.akamaized.net/images/wappen/tiny/19368.png?lm=1480871779', 'clubEmblem-2x': 'https://tmssl.akamaized.net/images/wappen/smallquad/19368.png?lm=1480871779', 'clubEmblemMobile': 'https://tmssl.akamaized.net/images/wappen/homepageWappen70x70/19368.png?lm=1480871779', 'clubName': 'Bryne FK Yth.', 'countryFlag': 'https://tmssl.akamaized.net/images/flagge/verysmall/125.png?lm=1520611569', 'latitude': '58.7290798', 'longitude': '5.6491387'}, 'to': {'isSpecial': False, 'href': '/bryne-fk/transfers/verein/1057/saison_id/2015', 'clubEmblem-1x': 'https://tmssl.akamaized.net/images/wappen/tiny/1057.png?lm=1480871779', 'clubEmblem-2x': 'https://tmssl.akamaized.net/images/wappen/smallquad/1057.png?lm=1480871779', 'clubEmblemMobile': 'https://tmssl.akamaized.net/images/wappen/homepageWappen70x70/1057.png?lm=1480871779', 'clubName': 'Bryne', 'countryFlag': 'https://tmssl.akamaized.net/images/flagge/verysmall/125.png?lm=1520611569', 'latitude': '58.7290798', 'longitude': '5.6491387'}, 'futureTransfer': 0, 'date': 'Sep 8, 2015', 'dateUnformatted': '2015-09-08', 'upcoming': False, 'season': '15/16', 'marketValue': '-', 'fee': '-', 'showUpcomingHeader': False, 'showResetHeader': False}], 'feeSum': 88100000, 'url': '/erling-haaland/transfers/spieler/418560', 'formattedFeeSum': '€88.10m', 'translations': {'headline': 'Transfer history ', 'transfer history': 'Transfer history', 'upcoming transfers': 'Upcoming transfer', 'feesum': 'Total transfer fees', 'season': 'Season', 'date': 'Date', 'club from': 'Left', 'club to': 'Joined', 'market value': 'MV', 'transfer fee': 'Fee', 'transferMapLinkText': 'Explore the transfer history on a map'}}\n",
      "[{'detailedStatsLink': '/erling-haaland/leistungsdatendetails/spieler/418560/wettbewerb/GB1/saison/2023', 'competitionDescription': 'Premier League', 'logo': 'https://tmssl.akamaized.net/images/logo/normal/gb1.png?lm=1521104656', 'nameSeason': '23/24', 'possibleGames': 38, 'gamesPlayed': 31, 'goalsScored': 27, 'assists': 5, 'yellowCards': 1, 'secondYellowCards': 0, 'redCards': 0, 'startElevenPercent': 76.31578947368422, 'minutesPlayedPercent': 74.79532163742691, 'goalsContributedPercent': 33.33333333333333, 'goalkeeper': False, 'concededGoals': 0, 'cleanSheets': 0, 'blockedPenaltyPercent': 0, 'minutesPlayed': 2558}, {'detailedStatsLink': '/erling-haaland/leistungsdatendetails/spieler/418560/wettbewerb/CL/saison/2023', 'competitionDescription': 'Champions League', 'logo': 'https://tmssl.akamaized.net/images/logo/normal/cl.png?lm=1626810555', 'nameSeason': '23/24', 'possibleGames': 10, 'gamesPlayed': 9, 'goalsScored': 6, 'assists': 1, 'yellowCards': 0, 'secondYellowCards': 0, 'redCards': 0, 'startElevenPercent': 90, 'minutesPlayedPercent': 83.76344086021506, 'goalsContributedPercent': 22.58064516129032, 'goalkeeper': False, 'concededGoals': 0, 'cleanSheets': 0, 'blockedPenaltyPercent': 0, 'minutesPlayed': 779}, {'detailedStatsLink': '/erling-haaland/leistungsdatendetails/spieler/418560/wettbewerb/USC/saison/2023', 'competitionDescription': 'UEFA Super Cup', 'logo': 'https://tmssl.akamaized.net/images/logo/normal/usc.png?lm=1520607013', 'nameSeason': '23/24', 'possibleGames': 1, 'gamesPlayed': 1, 'goalsScored': 0, 'assists': 0, 'yellowCards': 0, 'secondYellowCards': 0, 'redCards': 0, 'startElevenPercent': 100, 'minutesPlayedPercent': 100, 'goalsContributedPercent': 0, 'goalkeeper': False, 'concededGoals': 0, 'cleanSheets': 0, 'blockedPenaltyPercent': 0, 'minutesPlayed': 90}, {'detailedStatsLink': '/erling-haaland/leistungsdatendetails/spieler/418560/wettbewerb/GBCS/saison/2023', 'competitionDescription': 'Community Shield', 'logo': 'https://tmssl.akamaized.net/images/logo/normal/gbcs.png?lm=1659265562', 'nameSeason': '23/24', 'possibleGames': 1, 'gamesPlayed': 1, 'goalsScored': 0, 'assists': 0, 'yellowCards': 0, 'secondYellowCards': 0, 'redCards': 0, 'startElevenPercent': 100, 'minutesPlayedPercent': 71.11111111111111, 'goalsContributedPercent': 0, 'goalkeeper': False, 'concededGoals': 0, 'cleanSheets': 0, 'blockedPenaltyPercent': 0, 'minutesPlayed': 64}, {'detailedStatsLink': '/erling-haaland/leistungsdatendetails/spieler/418560/wettbewerb/FAC/saison/2023', 'competitionDescription': 'FA Cup', 'logo': 'https://tmssl.akamaized.net/images/logo/normal/fac.png?lm=1666031556', 'nameSeason': '23/24', 'possibleGames': 6, 'gamesPlayed': 3, 'goalsScored': 5, 'assists': 0, 'yellowCards': 0, 'secondYellowCards': 0, 'redCards': 0, 'startElevenPercent': 50, 'minutesPlayedPercent': 47.03703703703704, 'goalsContributedPercent': 31.25, 'goalkeeper': False, 'concededGoals': 0, 'cleanSheets': 0, 'blockedPenaltyPercent': 0, 'minutesPlayed': 254}, {'detailedStatsLink': '/erling-haaland/leistungsdatendetails/spieler/418560/wettbewerb/CGB/saison/2023', 'competitionDescription': 'EFL Cup', 'logo': 'https://tmssl.akamaized.net/images/logo/normal/cgb.png?lm=1566937342', 'nameSeason': '23/24', 'possibleGames': 1, 'gamesPlayed': 0, 'goalsScored': 0, 'assists': 0, 'yellowCards': 0, 'secondYellowCards': 0, 'redCards': 0, 'startElevenPercent': 0, 'minutesPlayedPercent': 0, 'goalsContributedPercent': 0, 'goalkeeper': False, 'concededGoals': 0, 'cleanSheets': 0, 'blockedPenaltyPercent': 0, 'minutesPlayed': 0}]\n"
     ]
    },
    {
     "ename": "",
     "evalue": "",
     "output_type": "error",
     "traceback": [
      "\u001b[1;31mThe Kernel crashed while executing code in the current cell or a previous cell. \n",
      "\u001b[1;31mPlease review the code in the cell(s) to identify a possible cause of the failure. \n",
      "\u001b[1;31mClick <a href='https://aka.ms/vscodeJupyterKernelCrash'>here</a> for more info. \n",
      "\u001b[1;31mView Jupyter <a href='command:jupyter.viewOutput'>log</a> for further details."
     ]
    }
   ],
   "source": [
    "api_endpoints = [\n",
    "    f\"marketValueDevelopment/graph/{player_id}\",\n",
    "    f\"transferHistory/list/{player_id}\",\n",
    "    f\"player/{player_id}/performance\"\n",
    "]\n",
    "\n",
    "for endpoint in api_endpoints:\n",
    "    response = requests.get(\n",
    "        'https://www.transfermarkt.us/ceapi/' + endpoint,\n",
    "        headers=headers\n",
    "    ).json()\n",
    "    print(response)"
   ]
  },
  {
   "cell_type": "code",
   "execution_count": null,
   "metadata": {},
   "outputs": [],
   "source": []
  }
 ],
 "metadata": {
  "kernelspec": {
   "display_name": "Python 3",
   "language": "python",
   "name": "python3"
  },
  "language_info": {
   "codemirror_mode": {
    "name": "ipython",
    "version": 3
   },
   "file_extension": ".py",
   "mimetype": "text/x-python",
   "name": "python",
   "nbconvert_exporter": "python",
   "pygments_lexer": "ipython3",
   "version": "3.10.11"
  }
 },
 "nbformat": 4,
 "nbformat_minor": 2
}
